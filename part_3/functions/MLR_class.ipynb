{
 "cells": [
  {
   "cell_type": "markdown",
   "metadata": {},
   "source": [
    "# MLRRegressor class"
   ]
  },
  {
   "cell_type": "code",
   "execution_count": 2,
   "metadata": {},
   "outputs": [],
   "source": [
    "import numpy as np\n",
    "import matplotlib.pyplot as plt\n",
    "import pandas as pd\n",
    "\n",
    "from sklearn.linear_model import LinearRegression\n",
    "from sklearn.pipeline import Pipeline\n",
    "from sklearn.preprocessing import StandardScaler\n",
    "\n",
    "import os\n",
    "import time\n",
    "\n",
    "from joblib import dump, load"
   ]
  },
  {
   "cell_type": "code",
   "execution_count": 4,
   "metadata": {},
   "outputs": [],
   "source": [
    "class MLRRegressor:\n",
    "    \n",
    "    def __init__(self):\n",
    "        self.algorithm = 'MLR'\n",
    "        \n",
    "    \n",
    "    def fit(self, X_train, y_train):\n",
    "        \n",
    "        steps = [\n",
    "             ('scaler', StandardScaler()),\n",
    "             ('mlr', LinearRegression())\n",
    "        ]\n",
    "\n",
    "        pipe = Pipeline(steps = steps)\n",
    "        \n",
    "        t1 = time.time()\n",
    "        pipe.fit(X_train, y_train)\n",
    "        t2 = time.time()\n",
    "        train_time = t2 - t1\n",
    "        \n",
    "        self.train_time = train_time\n",
    "        self.model = pipe\n",
    "        \n",
    "    def predict(self, X_test):\n",
    "        \n",
    "        y_hat = self.model.predict(X_test)\n",
    "        \n",
    "        return y_hat\n",
    "    \n",
    "    \n",
    "    def get_params(self):\n",
    "        '''\n",
    "        Returns a dictionary of the model parameters\n",
    "        MLR model parameters: Linear regression coefficients\n",
    "        '''\n",
    "        \n",
    "        param_dict = {}\n",
    "        \n",
    "        param = 'coef_'\n",
    "        \n",
    "        # Because the coefficients are in a list, they are transformed to a comma-seperated text\n",
    "        # to be saved in a single cell of a dataframe\n",
    "        val = getattr(self.model['mlr'], param)\n",
    "        val = ', '.join(list(map(lambda x: '{:.3f}'.format(x), val)))\n",
    "        \n",
    "        param_dict[param] = val\n",
    "        \n",
    "        return param_dict\n",
    "    "
   ]
  },
  {
   "cell_type": "code",
   "execution_count": null,
   "metadata": {},
   "outputs": [],
   "source": []
  }
 ],
 "metadata": {
  "kernelspec": {
   "display_name": "Python 3 (ipykernel)",
   "language": "python",
   "name": "python3"
  },
  "language_info": {
   "codemirror_mode": {
    "name": "ipython",
    "version": 3
   },
   "file_extension": ".py",
   "mimetype": "text/x-python",
   "name": "python",
   "nbconvert_exporter": "python",
   "pygments_lexer": "ipython3",
   "version": "3.9.7"
  }
 },
 "nbformat": 4,
 "nbformat_minor": 2
}
