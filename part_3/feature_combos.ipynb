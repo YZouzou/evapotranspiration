{
 "cells": [
  {
   "cell_type": "markdown",
   "metadata": {},
   "source": [
    "# Feature Combinations\n",
    "The feature combinations used in all models are defined here."
   ]
  },
  {
   "cell_type": "code",
   "execution_count": 1,
   "metadata": {},
   "outputs": [],
   "source": [
    "import json"
   ]
  },
  {
   "cell_type": "markdown",
   "metadata": {},
   "source": [
    "#### Available features:\n",
    "* **Latitude**: latitude\n",
    "* **Longitude**: longitude\n",
    "* **Elevation**: elevation\n",
    "* **Maximum temperature**: max_temp\n",
    "* **Minimum temperature**: min_temp\n",
    "* **Average Temperature**: avg_temp\n",
    "* **Average wind speed**: avg_ws\n",
    "* **Maximum humidity**: max_hum\n",
    "* **Minimum humidity**: min_hum\n",
    "* **Solar radiation**: Rs\n",
    "* **Extraterrestrial radiation**: Ra\n",
    "* **Net radiation**: Rn\n",
    "* **Month**: month"
   ]
  },
  {
   "cell_type": "code",
   "execution_count": 2,
   "metadata": {},
   "outputs": [],
   "source": [
    "feature_combos = {\n",
    "    1: ['max_temp', 'avg_ws'],\n",
    "    2: ['max_temp', 'min_temp', 'avg_ws'],\n",
    "    3: ['max_temp', 'avg_hum'],\n",
    "    4: ['min_temp', 'avg_ws'],\n",
    "    5: ['avg_temp', 'avg_ws'],\n",
    "    6: ['avg_ws', 'avg_hum'],\n",
    "    7: ['max_temp', 'avg_ws', 'month'],\n",
    "    8: ['max_temp', 'avg_ws', 'month', 'Ra'],\n",
    "    9: ['max_temp', 'avg_ws', 'month', 'inc_rad'],\n",
    "    10: ['max_temp', 'avg_ws', 'month', 'avg_hum'],\n",
    "    11: ['inc_rad', 'avg_hum'],\n",
    "    12: ['inc_rad', 'max_temp', 'avg_hum'],\n",
    "    13: ['inc_rad', 'avg_ws', 'avg_hum'],\n",
    "    14: ['inc_rad', 'max_temp']\n",
    "}"
   ]
  },
  {
   "cell_type": "markdown",
   "metadata": {},
   "source": [
    "Writing `feature_combos` dictionary to JSON file"
   ]
  },
  {
   "cell_type": "code",
   "execution_count": 3,
   "metadata": {},
   "outputs": [],
   "source": [
    "with open('feature_combos.json', 'w') as file:\n",
    "    json.dump(feature_combos, file, sort_keys=True, indent=4)"
   ]
  },
  {
   "cell_type": "markdown",
   "metadata": {},
   "source": [
    "Reading `feature_combos` dictionary from JSON file"
   ]
  },
  {
   "cell_type": "code",
   "execution_count": 4,
   "metadata": {},
   "outputs": [],
   "source": [
    "with open('feature_combos.json', 'r') as file:\n",
    "    feature_combos = json.load(file)"
   ]
  },
  {
   "cell_type": "code",
   "execution_count": 5,
   "metadata": {},
   "outputs": [
    {
     "data": {
      "text/plain": [
       "{'1': ['max_temp', 'avg_ws'],\n",
       " '2': ['max_temp', 'min_temp', 'avg_ws'],\n",
       " '3': ['max_temp', 'avg_hum'],\n",
       " '4': ['min_temp', 'avg_ws'],\n",
       " '5': ['avg_temp', 'avg_ws'],\n",
       " '6': ['avg_ws', 'avg_hum'],\n",
       " '7': ['max_temp', 'avg_ws', 'month'],\n",
       " '8': ['max_temp', 'avg_ws', 'month', 'Ra'],\n",
       " '9': ['max_temp', 'avg_ws', 'month', 'inc_rad'],\n",
       " '10': ['max_temp', 'avg_ws', 'month', 'avg_hum'],\n",
       " '11': ['inc_rad', 'avg_hum'],\n",
       " '12': ['inc_rad', 'max_temp', 'avg_hum'],\n",
       " '13': ['inc_rad', 'avg_ws', 'avg_hum'],\n",
       " '14': ['inc_rad', 'max_temp']}"
      ]
     },
     "execution_count": 5,
     "metadata": {},
     "output_type": "execute_result"
    }
   ],
   "source": [
    "feature_combos"
   ]
  },
  {
   "cell_type": "code",
   "execution_count": null,
   "metadata": {},
   "outputs": [],
   "source": []
  }
 ],
 "metadata": {
  "kernelspec": {
   "display_name": "Python 3 (ipykernel)",
   "language": "python",
   "name": "python3"
  },
  "language_info": {
   "codemirror_mode": {
    "name": "ipython",
    "version": 3
   },
   "file_extension": ".py",
   "mimetype": "text/x-python",
   "name": "python",
   "nbconvert_exporter": "python",
   "pygments_lexer": "ipython3",
   "version": "3.9.7"
  }
 },
 "nbformat": 4,
 "nbformat_minor": 2
}
