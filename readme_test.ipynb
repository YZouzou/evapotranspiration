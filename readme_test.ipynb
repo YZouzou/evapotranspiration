{
 "cells": [
  {
   "cell_type": "markdown",
   "id": "d3dd1800",
   "metadata": {},
   "source": [
    "# Reference Evapotranspiration Estimation in Ege Region, Turkey\n",
    "\n",
    "## Table of Content\n",
    "* [Overview](#overview)\n",
    "* [Motivation](#motivation)\n",
    "* [Structure](#structure)\n",
    "* [References](#references)\n",
    "\n",
    "## Overview\n",
    "This repository contains a project conducted on weather data collected from stations in the Ege region in Turkey to estimate reference evapotranspiration using limited climatic variables.\n",
    "\n",
    "## Motivation\n",
    "Evapotranspiration is the total loss of water from land, constituted from evaporation and transpiration. Measuring evapotranspiration allows for efficient irrigation scheduling that provides the exact water requirements of the crops. However, measuring evapotranspiration directly is time consuming and not practical to be done on a regular basis. The Food and Agricultural Organization recommends the use of the Penman Monteith equation to estimate reference evapotranspiration (Eq. \\ref{eq1}) [[1]](#ref1). Reference evapotranspiration is the evapotranspiration from a surface of previously determined properties (reference surface), which can then be adjusted to other types of surfaces.\n",
    "\n",
    "$$ ET_0 = \\frac{0.408 \\Delta \\cdot \\left( R_n - G \\right) + \\gamma \\cdot \\frac{900}{T + 273} \\cdot u_2 \\cdot \\left(e_s - e_a \\right)}{\\Delta + \\gamma \\cdot \\left( 1 + 0.34 \\cdot u_2 \\right)} \\label{eq1}\\tag{1}$$\n",
    "\n",
    "\n",
    "\n",
    "Where:\n",
    "\n",
    "* $ET_0$ reference evapotranspiration ($mm \\cdot day^{-1}$)\n",
    "* $R_n$ net radiation ($MJ \\cdot m^{-2} \\cdot day^{-1}$)\n",
    "* $G$ soil heat flux density ($MJ \\cdot m^{-2} \\cdot day^{-1}$)\n",
    "* $T$ mean daily air temperature at 2 m height (°C) **calculated as the mean between max and min temperatures**\n",
    "* $u_2$ wind speed at 2 m height ($m \\cdot s^{-1}$)\n",
    "* $e_s$ saturation vapour pressure ($kPa$)\n",
    "* $e_a$ actual vapour pressure ($kPa$)\n",
    "* $\\Delta$ slope vapour pressure deficit ($kPa \\cdot °C^{-1}$)\n",
    "* $\\gamma$ psychometric constant ($kPa \\cdot °C^{-1}$)\n",
    "\n",
    "The previous equation, however, requires several climatic measurements that may not always be available on site. Therefore, several equations to compute ET0 from a smaller set of climatic variables have been suggested [[2]](#ref2). With the emergence of machine learning (ML), numerous researches were conducted on estimating reference evapotranspiration from a subset of climatic variables using ML algorithms. The project presented here is a small part of a larger study on this subject, which is to be published in the future.\n",
    "\n",
    "## Structure\n",
    "The project is divided into three parts:\n",
    "* **Part 1:** Reference evapotranspiration computation from raw climatic data using the Fao 56 PM equation (Eq. \\ref{eq1}).\n",
    "* **Part 2:** Exploratory data analysis of the climatic data.\n",
    "* **Part 3:** Application of machine learning algorithms to estimate ET0 from limited climatic variables. This part also includes an analysis and commentary on the prediction results.\n",
    "\n",
    "The notebooks used and saved data to a local machine, therefore, to run the codes, download this repository and define the relevant paths in each notebook. All notebooks have a *\"Define paths\"* section where the paths used in that notebook should be defined.\n",
    "\n",
    "## References\n",
    "<a id='ref1'>[1]</a>\n",
    "Allen, R. G., L. S. Pereira, Raes, D., and Smith, M., Crop evapotraspiration guidelines for computing crop water requirements. 1998.\n",
    "\n",
    "<a id='ref2'>[2]</a>\n",
    "G. H. Hargreaves and Z. A. Samani, “Reference Crop Evapotranspiration From Temperature.,” American Society of Agricultural Engineers, pp. 96–99, 1985."
   ]
  },
  {
   "cell_type": "markdown",
   "id": "ef96c359",
   "metadata": {},
   "source": [
    "# Reference Evapotranspiration Estimation in Ege Region, Turkey\n",
    "\n",
    "## Table of Content\n",
    "* [Overview](#overview)\n",
    "* [Motivation](#motivation)\n",
    "* [Structure](#structure)\n",
    "* [References](#references)\n",
    "\n",
    "## Overview\n",
    "This repository contains a project conducted on weather data collected from stations in the Ege region in Turkey to estimate reference evapotranspiration using limited climatic variables.\n",
    "\n",
    "## Motivation\n",
    "Evapotranspiration is the total loss of water from land, constituted from evaporation and transpiration. Measuring evapotranspiration allows for efficient irrigation scheduling that provides the exact water requirements of the crops. However, measuring evapotranspiration directly is time consuming and not practical to be done on a regular basis. The Food and Agricultural Organization recommends the use of the Penman Monteith equation to estimate reference evapotranspiration (Eq. 1) [1]. Reference evapotranspiration is the evapotranspiration from a surface of previously determined properties (reference surface), which can then be adjusted to other types of surfaces.\n",
    "\n",
    "<img src=\"https://render.githubusercontent.com/render/math?math=ET_0 = \\frac{0.408 \\Delta \\cdot \\left( R_n - G \\right) + \\gamma \\cdot \\frac{900}{T + 273} \\cdot u_2 \\cdot \\left(e_s - e_a \\right)}{\\Delta + \\gamma \\cdot \\left( 1 + 0.34 \\cdot u_2 \\right)} \">\n",
    "\n",
    "\n",
    "\n",
    "\n",
    "The previous equation, however, requires several climatic measurements that may not always be available on site. Therefore, several equations to compute ET0 from a smaller set of climatic variables have been suggested [[2]](#ref2). With the emergence of machine learning (ML), numerous researches were conducted on estimating reference evapotranspiration from a subset of climatic variables using ML algorithms. The project presented here is a small part of a larger study on this subject, which is to be published in the future.\n",
    "\n",
    "## Structure\n",
    "The project is divided into three parts:\n",
    "* **Part 1:** Reference evapotranspiration computation from raw climatic data using the Fao 56 PM equation (Eq. \\ref{eq1}).\n",
    "* **Part 2:** Exploratory data analysis of the climatic data.\n",
    "* **Part 3:** Application of machine learning algorithms to estimate ET0 from limited climatic variables. This part also includes an analysis and commentary on the prediction results.\n",
    "\n",
    "The notebooks used and saved data to a local machine, therefore, to run the codes, download this repository and define the relevant paths in each notebook. All notebooks have a *\"Define paths\"* section where the paths used in that notebook should be defined.\n",
    "\n",
    "## References\n",
    "<a id='ref1'>[1]</a>\n",
    "Allen, R. G., L. S. Pereira, Raes, D., and Smith, M., Crop evapotraspiration guidelines for computing crop water requirements. 1998.\n",
    "\n",
    "<a id='ref2'>[2]</a>\n",
    "G. H. Hargreaves and Z. A. Samani, “Reference Crop Evapotranspiration From Temperature.,” American Society of Agricultural Engineers, pp. 96–99, 1985."
   ]
  },
  {
   "cell_type": "code",
   "execution_count": 2,
   "id": "3c799feb",
   "metadata": {},
   "outputs": [],
   "source": [
    "def get_ref():\n",
    "    ref_id = int(input('Reference number: '))\n",
    "    txt = input('Reference test: ')\n",
    "    result = '<a id=\\'ref{}\\'>[{}]</a> {}'.format(ref_id, ref_id, txt)\n",
    "    \n",
    "    return result"
   ]
  },
  {
   "cell_type": "code",
   "execution_count": 3,
   "id": "7a3ae3a7",
   "metadata": {},
   "outputs": [
    {
     "name": "stdout",
     "output_type": "stream",
     "text": [
      "Reference number: 2\n",
      "Reference test: G. H. Hargreaves and Z. A. Samani, “Reference Crop Evapotranspiration From Temperature.,” American Society of Agricultural Engineers, pp. 96–99, 1985.\n"
     ]
    },
    {
     "data": {
      "text/plain": [
       "\"<a id='ref2'>[2]</a> G. H. Hargreaves and Z. A. Samani, “Reference Crop Evapotranspiration From Temperature.,” American Society of Agricultural Engineers, pp. 96–99, 1985.\""
      ]
     },
     "execution_count": 3,
     "metadata": {},
     "output_type": "execute_result"
    }
   ],
   "source": [
    "get_ref()"
   ]
  },
  {
   "cell_type": "code",
   "execution_count": null,
   "id": "0877c17c",
   "metadata": {},
   "outputs": [],
   "source": []
  }
 ],
 "metadata": {
  "kernelspec": {
   "display_name": "Python 3 (ipykernel)",
   "language": "python",
   "name": "python3"
  },
  "language_info": {
   "codemirror_mode": {
    "name": "ipython",
    "version": 3
   },
   "file_extension": ".py",
   "mimetype": "text/x-python",
   "name": "python",
   "nbconvert_exporter": "python",
   "pygments_lexer": "ipython3",
   "version": "3.9.7"
  }
 },
 "nbformat": 4,
 "nbformat_minor": 5
}
