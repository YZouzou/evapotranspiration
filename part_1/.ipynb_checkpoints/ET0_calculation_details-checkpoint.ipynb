{
 "cells": [
  {
   "cell_type": "markdown",
   "metadata": {},
   "source": [
    "# ET0 Calculation\n",
    "* Equations and the accompanying clarifications are taken from the [\"FAO Irrigation and drainage paper 56\"](http://www.fao.org/3/x0490e/x0490e00.htm#Contents)."
   ]
  },
  {
   "cell_type": "markdown",
   "metadata": {},
   "source": [
    "ET0 equation:\n",
    "\n",
    "$$ ET_0 = \\frac{0.408 \\Delta \\cdot \\left( R_n - G \\right) + \\gamma \\cdot \\frac{900}{T + 273} \\cdot u_2 \\cdot \\left(e_s - e_a \\right)}{\\Delta + \\gamma \\cdot \\left( 1 + 0.34 \\cdot u_2 \\right)} $$\n",
    "\n",
    "Where:\n",
    "\n",
    "* $ET_0$ reference evapotranspiration ($mm \\cdot day^{-1}$)\n",
    "* $R_n$ net radiation ($MJ \\cdot m^{-2} \\cdot day^{-1}$)\n",
    "* $G$ soil heat flux density ($MJ \\cdot m^{-2} \\cdot day^{-1}$)\n",
    "* $T$ mean daily air temperature at 2 m height (°C) **calculated as the mean between max and min temperatures**\n",
    "* $u_2$ wind speed at 2 m height ($m \\cdot s^{-1}$)\n",
    "* $e_s$ saturation vapour pressure ($kPa$)\n",
    "* $e_a$ actual vapour pressure ($kPa$)\n",
    "* $\\Delta$ slope vapour pressure deficit ($kPa \\cdot °C^{-1}$)\n",
    "* $\\gamma$ psychometric constant ($kPa \\cdot °C^{-1}$)"
   ]
  },
  {
   "cell_type": "markdown",
   "metadata": {},
   "source": [
    "#### Required variables:\n",
    "\n",
    "1. Elevation ($m$)\n",
    "2. Latitude (degrees)\n",
    "3. Max and min Temperatures $T_{min}$, $T_{max}$ ($°C$)\n",
    "4. Max and min relative humidities $RH_{min}$, $RH_{max}$ (%)\n",
    "5. Day of year\n",
    "6. Average wind speed $u_z$ ($m \\cdot s^{-1}$)\n",
    "7. Solar Radiation ($MJ \\cdot m^{-2} \\cdot day^{-1}$) or sunshine duration (hr)"
   ]
  },
  {
   "cell_type": "code",
   "execution_count": 1,
   "metadata": {},
   "outputs": [],
   "source": [
    "import pandas as pd\n",
    "import numpy as np\n",
    "import matplotlib.pyplot as plt"
   ]
  },
  {
   "cell_type": "markdown",
   "metadata": {},
   "source": [
    "### Atmospheric Pressure (P)\n",
    "\n",
    "$$ P = 101.3 \\cdot \\left( \\frac{293-0.0065 \\cdot z}{293} \\right) ^{5.26} $$"
   ]
  },
  {
   "cell_type": "markdown",
   "metadata": {},
   "source": [
    "### Latent heat of vaporization ($\\lambda$)\n",
    "The latent heat of vaporization expresses the energy required to change a unit mass of water from liquid to water vapour in a constant pressure and constant temperature process.\n",
    "\n",
    "$$ \\lambda = 2.45 \\space MJ \\cdot kg^{-1} $$\n",
    "\n",
    "This is the latent heat for an air temperature of about 20°C, however it is accepted for normal temperature variations in the FAO 56 PM equation."
   ]
  },
  {
   "cell_type": "markdown",
   "metadata": {},
   "source": [
    "### Psychrometric Constant ($\\gamma$)\n",
    "$$ \\gamma = \\frac{c_p \\cdot P}{\\epsilon \\cdot \\lambda} = 0.665 \\times 10^{-3} \\cdot P$$\n",
    "Where:\n",
    "* $\\gamma$ psychrometric constant ($ kPa \\cdot °C^{-1} $)\n",
    "* P atmospheric pressure ($kPa$)\n",
    "* $\\lambda$ latent heat of vaporization ($MJ \\cdot kg^{-1}$)\n",
    "* $c_p$ specific heat at constant pressure\n",
    "    * $ c_p = 1.013 \\cdot 10^{-3} MJ \\cdot kg^{-1} °C^{-1} $\n",
    "* $\\epsilon$ ratio molecular weight of water vapour/dry air\n",
    "    * $ \\epsilon = 0.622 $"
   ]
  },
  {
   "cell_type": "code",
   "execution_count": 4,
   "metadata": {},
   "outputs": [],
   "source": [
    "def psych_const(elev):\n",
    "    \"\"\"\n",
    "    Computes the psychrometric constant in [kPa.°C^(-1)]\n",
    "\n",
    "    Parameters:\n",
    "    ----------\n",
    "\n",
    "    elev: Elevation above sea level in [m]\n",
    "    \"\"\"\n",
    "    P = 101.3 * ((293 - 0.0065*elev) / 293)**5.26\n",
    "    return 0.665e-3 * P"
   ]
  },
  {
   "cell_type": "code",
   "execution_count": 7,
   "metadata": {},
   "outputs": [
    {
     "name": "stdout",
     "output_type": "stream",
     "text": [
      "Psychrometric Constant = 0.054\n"
     ]
    }
   ],
   "source": [
    "z = 1800\n",
    "gam = psych_const(z)\n",
    "\n",
    "print('Psychrometric Constant = {:.3f}'.format(gam))"
   ]
  },
  {
   "cell_type": "markdown",
   "metadata": {},
   "source": [
    "### Air Temperature\n",
    "\"The daily maximum air temperature (Tmax) and daily minimum air temperature (Tmin) are, respectively, the maximum and minimum air temperature observed during the 24-hour period, beginning at midnight. *Tmax and Tmin for longer periods such as weeks, 10-days or months are obtained by dividing the sum of the respective daily values by the number of days in the period.*\"\n",
    "\n",
    "$$ T_{mean} = \\frac{T_{max} + T_{min}}{2} $$\n",
    "\n",
    "**In the source the equation has a - sign instead of a + sign**"
   ]
  },
  {
   "cell_type": "markdown",
   "metadata": {},
   "source": [
    "### Air Humidity\n",
    "\"Relative humidity and dewpoint temperature data are notoriously plagued by measurement errors. Measurement error is common for both older hygrothermograph types of instruments and for the more modem electronic instruments. Frequently, it is better to utilize a dewpoint temperature that is predicted from daily minimum air temperature, rather than to use unreliable relative humidity measurements. The user is encouraged to utilize good judgement in this area.\""
   ]
  },
  {
   "cell_type": "markdown",
   "metadata": {},
   "source": [
    "### Mean Saturation Vapour Pressure ($e_s$)\n",
    "* Saturation vapour pressure:\n",
    "$$ e°(T) = 0.6108 \\cdot exp \\left( \\frac{17.27 \\cdot T}{T + 237.3} \\right) $$\n",
    "Where:\n",
    "    * $e°(T)$ saturation vapour pressure at the air temperature T (kPa)\n",
    "    * T air temperature (°C)\n",
    "    \n",
    "\n",
    "* Mean saturation vapour pressure:\n",
    "$$ e_s = \\frac{e°(T_{max}) + e°(T_{min})}{2} $$\n",
    "\n",
    "#### Notes:\n",
    "* Due to the non-linearity of the above equation, the mean saturation vapour pressure for a day, week, decade or month should be computed as the mean between the saturation vapour pressure at the mean daily maximum and minimum air temperatures for that period.\n",
    "* Using mean air temperature instead of daily minimum and maximum temperatures results in lower estimates for the mean saturation vapour pressure."
   ]
  },
  {
   "cell_type": "code",
   "execution_count": 8,
   "metadata": {},
   "outputs": [],
   "source": [
    "def sat_vap_pressure(T):\n",
    "    \"\"\"\n",
    "    Computes the saturation vapour pressure in [kPa]\n",
    "\n",
    "    Parameters:\n",
    "    ----------\n",
    "\n",
    "    T: Air temperature in [°C]\n",
    "    \"\"\"\n",
    "    return 0.6108 * np.exp((17.27*T) / (T + 237.3))"
   ]
  },
  {
   "cell_type": "code",
   "execution_count": 9,
   "metadata": {},
   "outputs": [
    {
     "name": "stdout",
     "output_type": "stream",
     "text": [
      "es max-min = 2.390\n",
      "es mean = 2.302\n"
     ]
    }
   ],
   "source": [
    "T1 = 24.5\n",
    "T2 = 15\n",
    "Tmean = (T1 + T2) / 2\n",
    "es_maxmin = (sat_vap_pressure(T1) + sat_vap_pressure(T2)) / 2\n",
    "es_mean = sat_vap_pressure(Tmean)\n",
    "print('es max-min = {:.3f}'.format(es_maxmin))\n",
    "print('es mean = {:.3f}'.format(es_mean))"
   ]
  },
  {
   "cell_type": "markdown",
   "metadata": {},
   "source": [
    "### Slope of Saturation Vapour Pressure Curve ($\\Delta$)\n",
    "$$ \\Delta = \\frac{4098 \\cdot \\left( 0.6108 \\cdot exp \\left(\\frac{17.27 \\cdot T}{T + 237.3} \\right) \\right)}{(T + 237.3)^2} $$\n",
    "\n",
    "Where:\n",
    "* $\\Delta$ slope of saturation vapour pressure curve at air temperature T ($kPa \\cdot °C^{-1}$)\n",
    "* T mean air temperature calculated using max and min temperatures as explained earlier (°C)"
   ]
  },
  {
   "cell_type": "code",
   "execution_count": 10,
   "metadata": {},
   "outputs": [],
   "source": [
    "def sat_slope(T):\n",
    "    \"\"\"\n",
    "    Computes the slope of the saturation vapour pressure curve\n",
    "    at the given temperature in [kPa.°C^(-1)]\n",
    "\n",
    "    Parameters:\n",
    "    ----------\n",
    "\n",
    "    T: Air temperature in [°C]\n",
    "    \"\"\"\n",
    "\n",
    "    return (4098 * sat_vap_pressure(T)) / (T + 237.3)**2"
   ]
  },
  {
   "cell_type": "markdown",
   "metadata": {},
   "source": [
    "### Actual vapour pressure ($e_a$) derived from relative humidity data\n",
    "\n",
    "* Using $RH_{max}$ and $RH_{min}$:\n",
    "\n",
    "$$ e_a = \\frac{e°(T_{min}) \\cdot \\frac{RH_{max}}{100} + e°(T_{max}) \\cdot \\frac{RH_{min}}{100}}{2} $$\n",
    "\n",
    "* When using equipment where errors in estimating $RH_{min}$ can be large, or when RH data integrity are in doubt, then one should use only $RH_{max}$:\n",
    "\n",
    "$$ e_a = e°(T_{min}) \\cdot \\frac{RH_{max}}{100} $$"
   ]
  },
  {
   "cell_type": "code",
   "execution_count": 11,
   "metadata": {},
   "outputs": [],
   "source": [
    "def actual_vap_pressure(Tmin, RHmax, Tmax = None, RHmin = None, maxmin = True):\n",
    "    \"\"\"\n",
    "    Computes the actual vapour pressure in [kPa] using two methods\n",
    "    where the parameter maxmin determines the method to be used\n",
    "\n",
    "    1. maxmin = True\n",
    "        Actual vapour pressure is computed using both maximum and\n",
    "        minimum relative humidities\n",
    "\n",
    "    2. maxmin = False\n",
    "        Actual vapour pressure is calculated using only\n",
    "        the minimum relative humidity\n",
    "\n",
    "    Parameters:\n",
    "    ----------\n",
    "\n",
    "    Tmax, Tmin: Maximum and minimum temperatures in [°C]\n",
    "\n",
    "    RHmax, RHmin: Maximum and minimum relative humidities\n",
    "                  as a percentage (Ex. 75)\n",
    "\n",
    "    maxmin: Variable to determine which method to use (bool)\n",
    "    \"\"\"\n",
    "\n",
    "    if maxmin:\n",
    "        return (sat_vap_pressure(Tmin) * RHmax * 0.01 + sat_vap_pressure(Tmax) * RHmin * 0.01) / 2\n",
    "    else:\n",
    "        return sat_vap_pressure(Tmin) * RHmax * 0.01"
   ]
  },
  {
   "cell_type": "code",
   "execution_count": 14,
   "metadata": {},
   "outputs": [
    {
     "name": "stdout",
     "output_type": "stream",
     "text": [
      "maxmin = True:\n",
      "1.702\n",
      "maxmin = False:\n",
      "1.692\n"
     ]
    }
   ],
   "source": [
    "Tmin = 18\n",
    "Tmax = 25\n",
    "RHmin = 54\n",
    "RHmax = 82\n",
    "print('maxmin = True:\\n{:.3f}'.format(actual_vap_pressure(tmin, RHmax, Tmax, RHmin, maxmin = True)))\n",
    "print('maxmin = False:\\n{:.3f}'.format(actual_vap_pressure(tmin, RHmax, Tmax, RHmin, maxmin = False)))"
   ]
  },
  {
   "cell_type": "markdown",
   "metadata": {},
   "source": [
    "### Radiation\n",
    "\n",
    "#### Extraterrestrial Radiation $R_a$:\n",
    "Extraterrestrial radiation is the total radiation that should theoretically reach the earth from the sun, excluding the radiation absorbed by the atmosphere. It is calculated using a constant value of sun radiation modified by the time and location of the studied are, which affects the angle of arrival of the solar radiation to the earth.\n",
    "\n",
    "$R_a$ for a certain day and location:\n",
    "\n",
    "$$ R_a = \\frac{24 \\cdot 60}{\\pi} \\cdot G_{sc} \\cdot d_r \\cdot \\left[ \\omega_s \\cdot sin(\\varphi) \\cdot sin(\\delta) + cos(\\varphi) \\cdot cos(\\delta) \\cdot sin(\\omega_s) \\right] $$\n",
    "\n",
    "Where:\n",
    "* $R_a$ extraterrestrial radiation $MJ \\cdot m^{-2} \\cdot day^{-1}$\n",
    "* $G_{sc}$ solar constant ($0.082 MJ \\cdot m^{-2} \\cdot min^{-1}$)\n",
    "* $d_r$ inverse relative distance Earth-Sun\n",
    "* $\\omega_s$ sunset hour angle (rad)\n",
    "* $\\varphi$ latitude (rad) - positive for northern hemisphere and negative for southern hemisphere\n",
    "* $\\delta$ solar decimation (rad)\n",
    "\n",
    "$$ d_r = 1 + 0.033 \\cdot cos \\left( \\frac{2\\pi}{365} \\cdot J \\right) $$\n",
    "\n",
    "$$ \\delta = 0.409 \\cdot sin \\left( \\frac{2\\pi}{365} \\cdot J - 1.39 \\right) $$ \n",
    "\n",
    "Where:\n",
    "* J number of the day in the year (1-365/366) (see Table 2.5 in Annex 2)\n",
    "\n",
    "$$ \\omega_s = arccos \\left( -tan(\\varphi) \\cdot tan(\\delta) \\right) $$"
   ]
  },
  {
   "cell_type": "code",
   "execution_count": 21,
   "metadata": {},
   "outputs": [],
   "source": [
    "def extra_terr_rad(lat, day = None, month = None):\n",
    "\n",
    "    \"\"\"\n",
    "    Computes extraterrestrial radiation in [MJ.m^(-2).day^(-1)]\n",
    "    given the latitude and day of year\n",
    "\n",
    "    Parameters:\n",
    "    ----------\n",
    "\n",
    "    lat: Latitude of the station in degrees.\n",
    "         Negative for southern hemisphere and\n",
    "         positive for northern hemisphere.\n",
    "\n",
    "    day: Day of year. If given, month value is ignored.\n",
    "\n",
    "    month: Month of year. Used to calculate the day of year\n",
    "           corresponding to the middle of the month as stated\n",
    "           in Annex 2 Table 2.5 of the FAO ET0 calculation\n",
    "           handbook. Month value is ignored if day variable\n",
    "           is provided.\n",
    "    \"\"\"\n",
    "    if day is not None:\n",
    "        J = day\n",
    "    else:\n",
    "        try:\n",
    "            # Check Annex 2 Table 2.5\n",
    "            J = (30.4 * month - 15).astype(np.int)\n",
    "        except:\n",
    "            J = int(30.4 * month - 15)\n",
    "\n",
    "    # Convert latitude to radians\n",
    "    phi = lat * np.pi/180\n",
    "\n",
    "    # Inverse relative distance Earth-Sun\n",
    "    dr = 1 + 0.033 * np.cos(2*np.pi*J/365)\n",
    "\n",
    "    # Solar Decimation\n",
    "    delta = 0.409 * np.sin(2*np.pi*J/365 - 1.39)\n",
    "\n",
    "    # Sunset hour angle\n",
    "    ws = np.arccos( -np.tan(phi) * np.tan(delta) )\n",
    "\n",
    "    # Solar constant\n",
    "    Gsc = 0.082\n",
    "\n",
    "    return (24*60/np.pi) * Gsc * dr * (ws * np.sin(phi) * np.sin(delta) + np.cos(phi) * np.cos(delta) * np.sin(ws))"
   ]
  },
  {
   "cell_type": "code",
   "execution_count": 24,
   "metadata": {},
   "outputs": [
    {
     "name": "stdout",
     "output_type": "stream",
     "text": [
      "Ra = 32.19\n"
     ]
    }
   ],
   "source": [
    "# Example 8.\n",
    "lat = -20\n",
    "day = 246\n",
    "Ra = extra_terr_rad(lat, day, month = None)\n",
    "print('Ra = {:.2f}'.format(Ra))"
   ]
  },
  {
   "cell_type": "markdown",
   "metadata": {},
   "source": [
    "#### Solar or Shortwave Radiation $R_s$:\n",
    "Solar radiation $R_s$ is the actual amount of radiation that reaches the earth from the sun in a certain point. This value could be measured or computed from sunshine hours using the Angstrom equation:\n",
    "\n",
    "$$ R_s = (a_s + b_s \\frac{n}{N})R_a $$\n",
    "\n",
    "Where:\n",
    "* $a_s$ Fraction of extraterrestrial radiation reaching the earth on overcast days (n = 0)\n",
    "* $a_s + b_s$ Fraction of extraterrestrial radiation reaching the earth on clear days (n = N)\n",
    "* $n$: Daily measured sunlight hours\n",
    "* $N$: Total daily day hours (according to time and location)\n",
    "\n",
    "$$ N = \\frac{24}{\\pi} \\omega_s $$"
   ]
  },
  {
   "cell_type": "markdown",
   "metadata": {},
   "source": [
    "#### Clear Sky Solar Radiation $R_{s0}$:\n",
    "$R_{so}$ is the solar radiation that would reach the earth when the sky is clear. It is estimated from the extraterrestrial radiation $R_a$. $\\frac{R_s}{R_{so}}$  is therefore the ratio of actual solar radiation to the clear sky solar radiation, ranging between 0.33 and 1.\n",
    "\n",
    "$$ R_{so} = (0.75 + 2 \\cdot 10^{-5} \\cdot Z) \\cdot R_a $$\n",
    "\n",
    "Where:\n",
    "* $R_{so}$ in $(MJ \\cdot m^{-2} \\cdot day^{-1})$\n",
    "* $Z$ station elevation above sea level ($m$)"
   ]
  },
  {
   "cell_type": "code",
   "execution_count": 17,
   "metadata": {},
   "outputs": [],
   "source": [
    "def clear_sky_rad(elev, ex_rad):\n",
    "    \"\"\"\n",
    "    Computes the clear-sky solar radiation in\n",
    "    [MJ.m^(-2).day^(-1)]given the station elevation and extraterrestrial radiation\n",
    "\n",
    "    Parameters:\n",
    "    ----------\n",
    "\n",
    "    elev: Station elevation above sea level in [m]\n",
    "\n",
    "    ex_rad: Extraterrestrial radiation in [MJ.m^(-2).day^(-1)]\n",
    "    \"\"\"\n",
    "    return (0.75 + 2e-5 * elev) * ex_rad"
   ]
  },
  {
   "cell_type": "markdown",
   "metadata": {},
   "source": [
    "#### Albedo (α) and Net Solar Radiation ($R_{ns}$):\n",
    "Albedo is the fraction of solar radiation reflected by the earth. It depends on the earth cover. For the reference crop used in ET0 estimation, α=0.23.\n",
    "\n",
    "$$ R_{ns} = (1-\\alpha) \\cdot R_s$$\n",
    "\n",
    "Where:\n",
    "* $ R_{ns}$ in $(MJ \\cdot m^{-2} \\cdot day^{-1})$\n",
    "* $\\alpha$ albedo, 0.23 for the hypothetical grass reference crop\n",
    "* $R_s$ incoming solar radiation $(MJ \\cdot m^{-2} \\cdot day^{-1} )$"
   ]
  },
  {
   "cell_type": "code",
   "execution_count": 18,
   "metadata": {},
   "outputs": [],
   "source": [
    "def net_short_rad(Rs):\n",
    "    \"\"\"\n",
    "    Computes the net shortwave radiation in [MJ.m^(-2).day^(-1)]\n",
    "    using the ET0 reference crop albedo given the measured solar\n",
    "    radiation\n",
    "\n",
    "    Parameters:\n",
    "    ----------\n",
    "\n",
    "    Rs: Measured incoming solar radiation in [MJ.m^(-2).day^(-1)]\n",
    "    \"\"\"\n",
    "\n",
    "    albedo = 0.23\n",
    "\n",
    "    return (1-albedo) * Rs"
   ]
  },
  {
   "cell_type": "markdown",
   "metadata": {},
   "source": [
    "#### Net Longwave Radiation ($R_{nl}$):\n",
    "During the processes in which the earth is heated by radiation, the earth loses energy and some of this lost energy is constituted of emitted radiation. Some of this emitted radiation is absorbed by the atmosphere, heating it in the process and is returned eventually to the earth. The remaining part is lost in space. Net longwave radiation is the radiation lost from the earth in these processes. As the outgoing longwave radiation is almost always greater than me incoming longwave radiation, $R_{nl}$ represents an energy loss.\n",
    "\n",
    "$$ R_{nl} = \\sigma \\cdot \\left[ \\frac{T_{max, K}^4 + T_{min, K}^4}{2} \\right] \\cdot \\left(0.34 - 0.14 \\sqrt{e_a} \\right) \\cdot \\left( 1.35 \\cdot \\frac{R_s}{R_{so}} - 0.35 \\right) $$\n",
    "\n",
    "Where:\n",
    "* $R_{nl}$ in $(MJ \\cdot m^{-2} \\cdot day^{-1})$\n",
    "* $\\sigma$ Stefan-Boltzmann constant ($ 4.903 \\cdot 10^{-9} MJ \\cdot K^{-4} \\cdot m^{-2} \\cdot day ^{-1} $)\n",
    "* $T_{max, K}$, $T_{min, K}$ maximum and minimum absolute temperature during the 24-hour period ($K = °C + 273.16$)\n",
    "* $e_a$ actual vapour pressure ($kPa$)\n",
    "* $\\frac{R_s}{R_{so}} \\leq 1$ relative shortwave radiation\n",
    "* $R_s$, $R_{so}$ in ($MJ \\cdot m^{-2} \\cdot day^{-1}$)"
   ]
  },
  {
   "cell_type": "code",
   "execution_count": 19,
   "metadata": {},
   "outputs": [],
   "source": [
    "def net_long_rad(Tmax, Tmin, ea, Rs, Rso):\n",
    "    \"\"\"\n",
    "    Computes the net longwave radiation in [MJ.m^(-2).day^(-1)]\n",
    "    given maximum and minimum temperatures,\n",
    "    actual vapour pressure, measured solar radiation,\n",
    "    and clear-sky solar radiation\n",
    "\n",
    "    Parameters:\n",
    "    ----------\n",
    "    \n",
    "    Tmax, Tmin: Maximum and minimum temperatures in [°C]\n",
    "    \n",
    "    ea: Actual vapour pressure in [kPa]\n",
    "    \n",
    "    Rs: Measured incoming solar radiation in [MJ.m^(-2).day^(-1)]\n",
    "    \n",
    "    Rso: Clear-sky solar radiation in [MJ.m^(-2).day^(-1)]\n",
    "    \"\"\"\n",
    "    \n",
    "    # Convert temperatures to kelvin\n",
    "    Tmax_k = Tmax + 273.16\n",
    "    Tmin_k = Tmin + 273.16\n",
    "    \n",
    "    # Stefan-Boltzmann constant\n",
    "    sig = 4.903e-9\n",
    "    \n",
    "    return sig * ((Tmax_k**4 + Tmin_k**4)/2) * (0.34 - 0.14*np.sqrt(ea)) * (1.35*Rs/Rso - 0.35)"
   ]
  },
  {
   "cell_type": "code",
   "execution_count": 30,
   "metadata": {},
   "outputs": [
    {
     "name": "stdout",
     "output_type": "stream",
     "text": [
      "Rso = 18.83\n",
      "Rnl = 3.53\n"
     ]
    }
   ],
   "source": [
    "# Example 11\n",
    "lat = -22.7\n",
    "Tmax = 25.1\n",
    "Tmin = 19.1\n",
    "ea = 2.1\n",
    "Rs = 14.5\n",
    "elev = 2\n",
    "Ra = 25.1\n",
    "\n",
    "Rso = clear_sky_rad(elev, ex_rad = Ra)\n",
    "Rnl = net_long_rad(Tmax, Tmin, ea, Rs, Rso)\n",
    "\n",
    "print('Rso = {:.2f}'.format(Rso))\n",
    "print('Rnl = {:.2f}'.format(Rnl))"
   ]
  },
  {
   "cell_type": "markdown",
   "metadata": {},
   "source": [
    "#### Net Radiation ($R_n$):\n",
    "It is the difference between the incoming net shortwave $R_{ns}$, and the net outgoing longwave $R_{nl}$ radiation. It is normally positive in daytime and negative at night. In a 24-hour period $R_n$ is usually positive.\n",
    "\n",
    "$$ R_n = R_{ns} - R_{nl} $$\n",
    "\n",
    "#### Soil Heat Flux (G):\n",
    "The soil heat flux, G, is the energy that is utilized in heating the soil. G is positive when the soil is warming and negative when the soil is cooling.\n",
    "\n",
    "$$ G_{month, i} = 0.07 \\cdot \\left( T_{month, i+1} - T_{month, i-1} \\right) $$\n",
    "\n",
    "Or:\n",
    "\n",
    "$$ G_{month, i} = 0.14 \\cdot \\left( T_{month, i} - T_{month, i-1} \\right) $$\n",
    "\n",
    "Where:\n",
    "* $T_{month, i}$ mean air temperature of month i (°C)\n",
    "\n",
    "\n",
    "\n",
    "#### Note:\n",
    "The standard energy unit used by FAO in the FAO-56 PM handbook is $MJ \\cdot m^{-2} \\cdot day^{-1} $. This is then converted to equivalent evaporation in $mm \\cdot day^{-1}$ using the following function:\n",
    "\n",
    "$$ R_{\\text{depth of water}} = \\frac{R_{\\text{energy/surface}}}{\\lambda \\cdot \\rho_w} \\space\\space (m \\cdot day^{-1})$$\n",
    "\n",
    "Where:\n",
    "* $\\lambda$ latent heat of vaporization ($2.45 \\space MJ \\cdot kg^{-1}$)\n",
    "* $\\rho_w$ density of water ($1000 \\space kg \\cdot m^{-3}$)\n",
    "\n",
    "By substituting in the values we find the radiation in $mm \\cdot day^{-1}$ is:\n",
    "\n",
    "$$ R_{mm\\cdot day^{-1}} = \\frac{R_{MJ \\cdot m^{-2} \\cdot day^{-1}}}{2.45} = 0.408 \\cdot R_{MJ \\cdot m^{-2} \\cdot day^{-1}} $$"
   ]
  },
  {
   "cell_type": "markdown",
   "metadata": {},
   "source": [
    "### Wind Speed\n",
    "According to the [**Turkish State Meteorological Service**](https://mgm.gov.tr/genel/meteorolojikaletler.aspx?s=9), wind speed is measured at a height of 10m above the ground in weather stations.\n",
    "\n",
    "To calculate the equivalent wind speed at a height 2m above the ground:\n",
    "\n",
    "$$ u_2 = u_z \\cdot \\frac{4.87}{ln \\left( 67.8 Z - 5.42 \\right)} $$\n",
    "\n",
    "Where:\n",
    "* $u_2$ wind speed at 2m above the ground ($m \\cdot s^{-1}$)\n",
    "* $u_z$ wind speed at z m above the ground ($m \\cdot s^{-1}$)\n",
    "* Z height of measurement above the ground ($m$)"
   ]
  },
  {
   "cell_type": "code",
   "execution_count": 31,
   "metadata": {},
   "outputs": [],
   "source": [
    "def windspeed_2m(uz, h):\n",
    "    \"\"\"\n",
    "    Computes the equivalent wind speed at a height 2m\n",
    "    above the ground given the wind speed at a height h\n",
    "    \n",
    "    Parameters:\n",
    "    ----------\n",
    "    \n",
    "    uz: Wind speed measured at a height h above the ground in [m/s]\n",
    "    \n",
    "    h: Height of wind speed measurement device in [m]\n",
    "    \"\"\"\n",
    "    return uz * 4.87 / np.log(67.8*h - 5.42)"
   ]
  },
  {
   "cell_type": "code",
   "execution_count": 35,
   "metadata": {},
   "outputs": [
    {
     "name": "stdout",
     "output_type": "stream",
     "text": [
      "U2 = 2.39\n"
     ]
    }
   ],
   "source": [
    "# Example 14.\n",
    "uz = 3.2\n",
    "z = 10\n",
    "print('U2 = {:.2f}'.format(windspeed_2m(uz, z)))"
   ]
  },
  {
   "cell_type": "code",
   "execution_count": 42,
   "metadata": {},
   "outputs": [],
   "source": [
    "%run \"ET0 Class.ipynb\""
   ]
  },
  {
   "cell_type": "markdown",
   "metadata": {},
   "source": [
    "#### FAO paper 56 - Chapter 4 - Example 17"
   ]
  },
  {
   "cell_type": "code",
   "execution_count": 44,
   "metadata": {},
   "outputs": [
    {
     "name": "stdout",
     "output_type": "stream",
     "text": [
      "ET0 = 5.72\n"
     ]
    }
   ],
   "source": [
    "lat = 13.73\n",
    "elev = 2\n",
    "month = 4\n",
    "max_temp = 34.8\n",
    "min_temp = 25.6\n",
    "avg_temp = 30.2\n",
    "max_hum = 86.817\n",
    "min_hum = 0\n",
    "avg_ws = 2\n",
    "inc_rad = 22.65\n",
    "G = 0.14\n",
    "\n",
    "et = ET0(lat = lat, elev = elev, month = month, max_temp = max_temp,\n",
    "                min_temp = min_temp, avg_temp = avg_temp, max_hum = max_hum,\n",
    "                min_hum = min_hum, avg_ws = avg_ws,\n",
    "               inc_rad = inc_rad, G = G, maxmin = False)\n",
    "\n",
    "et.compute_ET0()\n",
    "print('ET0 = {:.2f}'.format(et.ET0))"
   ]
  }
 ],
 "metadata": {
  "kernelspec": {
   "display_name": "Python 3 (ipykernel)",
   "language": "python",
   "name": "python3"
  },
  "language_info": {
   "codemirror_mode": {
    "name": "ipython",
    "version": 3
   },
   "file_extension": ".py",
   "mimetype": "text/x-python",
   "name": "python",
   "nbconvert_exporter": "python",
   "pygments_lexer": "ipython3",
   "version": "3.9.7"
  }
 },
 "nbformat": 4,
 "nbformat_minor": 2
}
