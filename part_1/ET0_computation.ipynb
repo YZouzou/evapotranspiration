{
 "cells": [
  {
   "cell_type": "markdown",
   "metadata": {},
   "source": [
    "# ET0 Computation\n",
    "In this notebook, reference evapotranspiration (ET0) is computed from meteorlogical measurements."
   ]
  },
  {
   "cell_type": "markdown",
   "metadata": {},
   "source": [
    "### Index\n",
    "* [Implementation tutorial](#tutorial)\n",
    "    * [Cleaning raw data](#imp_raw_data_cleaner)\n",
    "    * [Computing ET0](#computing_ET0)\n",
    "* [Creating datasets](#creating_datasets)\n",
    "    * [Dataset 1](#dataset_1)\n",
    "    * [Dataset 2](#dataset_2)"
   ]
  },
  {
   "cell_type": "markdown",
   "metadata": {},
   "source": [
    "## Notebook preparation"
   ]
  },
  {
   "cell_type": "code",
   "execution_count": 1,
   "metadata": {},
   "outputs": [],
   "source": [
    "import pandas as pd\n",
    "import numpy as np\n",
    "import matplotlib.pyplot as plt\n",
    "\n",
    "import re\n",
    "import glob\n",
    "import os"
   ]
  },
  {
   "cell_type": "markdown",
   "metadata": {},
   "source": [
    "Loading functions from ET0_functions notebook"
   ]
  },
  {
   "cell_type": "code",
   "execution_count": 2,
   "metadata": {},
   "outputs": [],
   "source": [
    "# Enter the path to the ET0_functions.ipynb notbook and uncomment the %run line\n",
    "# TO DO: Pack the fuinctions in a package\n",
    "\n",
    "# %run path\\to\\notebook"
   ]
  },
  {
   "cell_type": "markdown",
   "metadata": {},
   "source": [
    "<a id = 'imp_raw_data_cleaner'></a>\n",
    "#### Cleaning raw data\n"
   ]
  },
  {
   "cell_type": "markdown",
   "metadata": {},
   "source": [
    "1. Define the column rename dictionary (col_rename_dict defined above) and the columns to keep in the resulting dataframe (cols_to_keep)."
   ]
  },
  {
   "cell_type": "code",
   "execution_count": 3,
   "metadata": {},
   "outputs": [],
   "source": [
    "# Dictionary of old column names (keys) and new column names (vals)\n",
    "col_rename_dict = {\n",
    "    # Station number\n",
    "    'Istasyon_No': 'st_num',\n",
    "    '?stasyon Numaras?': 'st_num',\n",
    "    \n",
    "    \n",
    "    # Station name\n",
    "    'Istasyon_Adi': 'st_name',\n",
    "    '?stasyon Ad?': 'st_name',\n",
    "    \n",
    "    \n",
    "    # Year and month\n",
    "    'YIL': 'year',\n",
    "    'AY': 'month',\n",
    "    \n",
    "    \n",
    "    # Province and district\n",
    "    '?l': 'province',\n",
    "    '?l?e': 'district',\n",
    "    \n",
    "    \n",
    "    # Longitude, latitude, and elevation\n",
    "    'Enlem': 'latitude',\n",
    "    'Boylam': 'longitude',\n",
    "    'Rak?m': 'elevation',\n",
    "    \n",
    "    \n",
    "    # Radiation and sun duration\n",
    "    \n",
    "    # Total monthly radiation (kwh÷m²) - Values available from 2005 only\n",
    "    'TOPLAM_KURESEL_GUNES_RADYASYONU_kws': 'tot_monthly_rad',\n",
    "    \n",
    "    # Maximum radiation (W/m2) - Values available from 2005 only\n",
    "    'MAKS?MUM KURESEL GUNES RADYASYONU Watt?m?': 'max_rad',\n",
    "    \n",
    "    # Monthly average of total daily rad (cal÷cm²)\n",
    "    'GUNLUK_TOPLAM_GLOBAL_GUNESLENME_SIDDETI_AYLIK_ORTALAMASI': 'inc_rad',\n",
    "    \n",
    "    # Total Monthly Sunlight Duration\n",
    "    'TOPLAM_GUNESLENME_SURESI': 'tot_monthly_sun_duration',\n",
    "    \n",
    "    # Monthly average of total daily sunlight duration\n",
    "    'GUNLUK_TOPLAM_GUNESLENME_SURESI_AYLIK_ORTALAMASI': 'sun_duration',\n",
    "    \n",
    "    \n",
    "    # Relative humidity\n",
    "    'MAKSIMUM_NEM': 'max_hum',\n",
    "    'MINIMUM_NEM': 'min_hum',\n",
    "    'ORTALAMA_NEM_%': 'avg_hum',\n",
    "    \n",
    "    \n",
    "    # Temperature\n",
    "    'MAKSIMUM_SICAKLIK_C': 'max_temp',\n",
    "    'MINIMUM_SICAKLIK_C': 'min_temp',\n",
    "    'ORTALAMA_SICAKLIK_?C': 'avg_temp',\n",
    "    \n",
    "    \n",
    "    # Wind speed (m/s)\n",
    "    'AYLIK_ORTALAMA_RUZGAR_HIZI': 'avg_ws',\n",
    "    \n",
    "    \n",
    "    # Soil relative humidity\n",
    "    'ORTALAMA_TOPRAK_NEMI_20': 'soil_hum_20',\n",
    "    'ORTALAMA_TOPRAK_NEMI_40': 'soil_hum_40',\n",
    "    'ORTALAMA_TOPRAK_NEMI_80': 'soil_hum_80',\n",
    "    \n",
    "    # Free surface evaporation\n",
    "    'TOPLAM_ACIK_YUZEY_BUHARLASMASI_mm': 'surface_evaporation',\n",
    "    \n",
    "    # Precipitation\n",
    "    'AYLIK_TOPLAM_YAGIS_mm': 'precip_omgi',\n",
    "    'AYLIK_TOPLAM_YAGIS_mm_Manuel': 'precip_manual'\n",
    "}"
   ]
  },
  {
   "cell_type": "code",
   "execution_count": 4,
   "metadata": {},
   "outputs": [],
   "source": [
    "cols_to_keep = [\n",
    "    'st_num', 'year', 'month', 'latitude',\n",
    "    'longitude', 'elevation', 'min_temp',\n",
    "    'max_temp', 'min_hum', 'max_hum', 'avg_ws',\n",
    "    'inc_rad', 'sun_duration'\n",
    "]"
   ]
  },
  {
   "cell_type": "markdown",
   "metadata": {},
   "source": [
    "2. Define the path to the directory containing the raw data files. This directory should contain **station_definitions.txt**, which has station numbers, latitudes, and longitudes."
   ]
  },
  {
   "cell_type": "code",
   "execution_count": 5,
   "metadata": {},
   "outputs": [],
   "source": [
    "# Define the path to the directory containing the raw data files\n",
    "# path_to_dir = r\"path\\to'directory\"\n"
   ]
  },
  {
   "cell_type": "markdown",
   "metadata": {},
   "source": [
    "3. Create a `RawDataCleaner` object and call `clean_for_ET0()` method."
   ]
  },
  {
   "cell_type": "code",
   "execution_count": 24,
   "metadata": {},
   "outputs": [],
   "source": [
    "RawDataCleaner?"
   ]
  },
  {
   "cell_type": "code",
   "execution_count": 6,
   "metadata": {},
   "outputs": [
    {
     "name": "stdout",
     "output_type": "stream",
     "text": [
      "Cleaning dataset:\n",
      "    Dropped 0 missing elevation values\n",
      "    Dropped 326 missing min_temp values\n",
      "    Dropped 206 missing max_temp values\n",
      "    Dropped 256 missing min_hum values\n",
      "    Dropped 256 missing max_hum values\n",
      "    Dropped 690 missing avg_ws values\n",
      "    Dropped 5010 missing inc_rad/sun_duration values\n",
      "    Dropped 244 values from st-year combos with less than 12 vals/year\n",
      "----------------------------------\n",
      "Total dropped values: 6285\n",
      "Dataset size: 2172\n"
     ]
    }
   ],
   "source": [
    "cl = RawDataCleaner(path_to_dir, col_rename_dict, cols_to_keep)\n",
    "df = cl.clean_for_ET0()"
   ]
  },
  {
   "cell_type": "markdown",
   "metadata": {},
   "source": [
    "<a id = 'computing_ET0'></a>\n",
    "#### Computing ET0"
   ]
  },
  {
   "cell_type": "markdown",
   "metadata": {},
   "source": [
    "1. Compute average temperature and average humidity"
   ]
  },
  {
   "cell_type": "code",
   "execution_count": 7,
   "metadata": {},
   "outputs": [],
   "source": [
    "idx = df.columns.get_loc('max_temp') + 1\n",
    "avg_temp = (df['max_temp'] + df['min_temp']) / 2.\n",
    "df.insert(idx, 'avg_temp', avg_temp)\n",
    "\n",
    "idx = df.columns.get_loc('max_hum') + 1\n",
    "avg_hum = (df['min_hum'] + df['max_hum']) / 2.\n",
    "df.insert(idx, 'avg_hum', avg_hum)"
   ]
  },
  {
   "cell_type": "markdown",
   "metadata": {},
   "source": [
    "2. Convert wind speed at 10m above the ground to 2m above the ground"
   ]
  },
  {
   "cell_type": "code",
   "execution_count": 8,
   "metadata": {},
   "outputs": [],
   "source": [
    "h = 10\n",
    "df['avg_ws'] = windspeed_2m(h = h, data = df)"
   ]
  },
  {
   "cell_type": "markdown",
   "metadata": {},
   "source": [
    "3. Convert measured incoming solar radiation units"
   ]
  },
  {
   "cell_type": "code",
   "execution_count": 9,
   "metadata": {},
   "outputs": [],
   "source": [
    "# Convert solar radiation units\n",
    "def cal_to_MJ(val):\n",
    "    return val*4.184*10**(-2)\n",
    "\n",
    "df['inc_rad'] = cal_to_MJ(df['inc_rad'])"
   ]
  },
  {
   "cell_type": "markdown",
   "metadata": {},
   "source": [
    "4. Replacing RHmax greater than 100 with 100"
   ]
  },
  {
   "cell_type": "code",
   "execution_count": 10,
   "metadata": {},
   "outputs": [],
   "source": [
    "cond = df['max_hum'] > 100\n",
    "idx = df[cond].index\n",
    "df.loc[idx, 'max_hum'] = 100"
   ]
  },
  {
   "cell_type": "code",
   "execution_count": 11,
   "metadata": {},
   "outputs": [
    {
     "data": {
      "text/html": [
       "<div>\n",
       "<style scoped>\n",
       "    .dataframe tbody tr th:only-of-type {\n",
       "        vertical-align: middle;\n",
       "    }\n",
       "\n",
       "    .dataframe tbody tr th {\n",
       "        vertical-align: top;\n",
       "    }\n",
       "\n",
       "    .dataframe thead th {\n",
       "        text-align: right;\n",
       "    }\n",
       "</style>\n",
       "<table border=\"1\" class=\"dataframe\">\n",
       "  <thead>\n",
       "    <tr style=\"text-align: right;\">\n",
       "      <th></th>\n",
       "      <th>st_num</th>\n",
       "      <th>year</th>\n",
       "      <th>month</th>\n",
       "      <th>latitude</th>\n",
       "      <th>longitude</th>\n",
       "      <th>elevation</th>\n",
       "      <th>min_temp</th>\n",
       "      <th>max_temp</th>\n",
       "      <th>avg_temp</th>\n",
       "      <th>min_hum</th>\n",
       "      <th>max_hum</th>\n",
       "      <th>avg_hum</th>\n",
       "      <th>avg_ws</th>\n",
       "      <th>inc_rad</th>\n",
       "      <th>sun_duration</th>\n",
       "    </tr>\n",
       "  </thead>\n",
       "  <tbody>\n",
       "    <tr>\n",
       "      <th>0</th>\n",
       "      <td>17186</td>\n",
       "      <td>2007</td>\n",
       "      <td>1</td>\n",
       "      <td>38.6153</td>\n",
       "      <td>27.4049</td>\n",
       "      <td>71.0</td>\n",
       "      <td>-2.6</td>\n",
       "      <td>19.7</td>\n",
       "      <td>8.55</td>\n",
       "      <td>31.0</td>\n",
       "      <td>99.0</td>\n",
       "      <td>65.0</td>\n",
       "      <td>0.972336</td>\n",
       "      <td>6.087720</td>\n",
       "      <td>2.1</td>\n",
       "    </tr>\n",
       "    <tr>\n",
       "      <th>1</th>\n",
       "      <td>17186</td>\n",
       "      <td>2007</td>\n",
       "      <td>2</td>\n",
       "      <td>38.6153</td>\n",
       "      <td>27.4049</td>\n",
       "      <td>71.0</td>\n",
       "      <td>-2.2</td>\n",
       "      <td>18.8</td>\n",
       "      <td>8.30</td>\n",
       "      <td>38.0</td>\n",
       "      <td>99.0</td>\n",
       "      <td>68.5</td>\n",
       "      <td>0.897541</td>\n",
       "      <td>4.025008</td>\n",
       "      <td>1.5</td>\n",
       "    </tr>\n",
       "    <tr>\n",
       "      <th>2</th>\n",
       "      <td>17186</td>\n",
       "      <td>2007</td>\n",
       "      <td>3</td>\n",
       "      <td>38.6153</td>\n",
       "      <td>27.4049</td>\n",
       "      <td>71.0</td>\n",
       "      <td>2.0</td>\n",
       "      <td>24.7</td>\n",
       "      <td>13.35</td>\n",
       "      <td>19.0</td>\n",
       "      <td>98.0</td>\n",
       "      <td>58.5</td>\n",
       "      <td>0.373976</td>\n",
       "      <td>2.435088</td>\n",
       "      <td>1.0</td>\n",
       "    </tr>\n",
       "    <tr>\n",
       "      <th>3</th>\n",
       "      <td>17186</td>\n",
       "      <td>2007</td>\n",
       "      <td>4</td>\n",
       "      <td>38.6153</td>\n",
       "      <td>27.4049</td>\n",
       "      <td>71.0</td>\n",
       "      <td>3.9</td>\n",
       "      <td>27.7</td>\n",
       "      <td>15.80</td>\n",
       "      <td>21.0</td>\n",
       "      <td>97.0</td>\n",
       "      <td>59.0</td>\n",
       "      <td>0.598361</td>\n",
       "      <td>2.899512</td>\n",
       "      <td>1.1</td>\n",
       "    </tr>\n",
       "    <tr>\n",
       "      <th>4</th>\n",
       "      <td>17186</td>\n",
       "      <td>2007</td>\n",
       "      <td>5</td>\n",
       "      <td>38.6153</td>\n",
       "      <td>27.4049</td>\n",
       "      <td>71.0</td>\n",
       "      <td>10.8</td>\n",
       "      <td>36.3</td>\n",
       "      <td>23.55</td>\n",
       "      <td>15.0</td>\n",
       "      <td>84.0</td>\n",
       "      <td>49.5</td>\n",
       "      <td>0.747951</td>\n",
       "      <td>3.669368</td>\n",
       "      <td>1.3</td>\n",
       "    </tr>\n",
       "  </tbody>\n",
       "</table>\n",
       "</div>"
      ],
      "text/plain": [
       "   st_num  year  month  latitude  longitude  elevation  min_temp  max_temp  \\\n",
       "0   17186  2007      1   38.6153    27.4049       71.0      -2.6      19.7   \n",
       "1   17186  2007      2   38.6153    27.4049       71.0      -2.2      18.8   \n",
       "2   17186  2007      3   38.6153    27.4049       71.0       2.0      24.7   \n",
       "3   17186  2007      4   38.6153    27.4049       71.0       3.9      27.7   \n",
       "4   17186  2007      5   38.6153    27.4049       71.0      10.8      36.3   \n",
       "\n",
       "   avg_temp  min_hum  max_hum  avg_hum    avg_ws   inc_rad  sun_duration  \n",
       "0      8.55     31.0     99.0     65.0  0.972336  6.087720           2.1  \n",
       "1      8.30     38.0     99.0     68.5  0.897541  4.025008           1.5  \n",
       "2     13.35     19.0     98.0     58.5  0.373976  2.435088           1.0  \n",
       "3     15.80     21.0     97.0     59.0  0.598361  2.899512           1.1  \n",
       "4     23.55     15.0     84.0     49.5  0.747951  3.669368           1.3  "
      ]
     },
     "execution_count": 11,
     "metadata": {},
     "output_type": "execute_result"
    }
   ],
   "source": [
    "df.head()"
   ]
  },
  {
   "cell_type": "markdown",
   "metadata": {},
   "source": [
    "4. Compute ET0 using `compute_ET0()` function"
   ]
  },
  {
   "cell_type": "markdown",
   "metadata": {},
   "source": [
    "<a id = 'soil_heat_flux'></a>\n",
    "Soil heat flux (G) computation using one of the following equations:\n",
    "\n",
    "* Method 1 (Eq. 1):\n",
    "$$ G_{month, i} = 0.14 \\cdot \\left( T_{month, i} - T_{month, i-1} \\right) $$\n",
    "\n",
    "* Method 2 (Eq. 2):\n",
    "$$ G_{month, i} = 0.07 \\cdot \\left( T_{month, i+1} - T_{month, i-1} \\right) $$\n"
   ]
  },
  {
   "cell_type": "code",
   "execution_count": 12,
   "metadata": {},
   "outputs": [],
   "source": [
    "compute_ET0?"
   ]
  },
  {
   "cell_type": "code",
   "execution_count": 13,
   "metadata": {},
   "outputs": [
    {
     "name": "stderr",
     "output_type": "stream",
     "text": [
      "C:\\Users\\HP\\anaconda3\\envs\\uni_research\\lib\\site-packages\\pandas\\core\\indexing.py:1732: SettingWithCopyWarning: \n",
      "A value is trying to be set on a copy of a slice from a DataFrame\n",
      "\n",
      "See the caveats in the documentation: https://pandas.pydata.org/pandas-docs/stable/user_guide/indexing.html#returning-a-view-versus-a-copy\n",
      "  self._setitem_single_block(indexer, value, name)\n"
     ]
    }
   ],
   "source": [
    "et = compute_ET0(G_method = 1,\n",
    "                maxmin = False,\n",
    "                compute_inc_rad = False,\n",
    "                data = df)"
   ]
  },
  {
   "cell_type": "code",
   "execution_count": 14,
   "metadata": {},
   "outputs": [
    {
     "data": {
      "text/html": [
       "<div>\n",
       "<style scoped>\n",
       "    .dataframe tbody tr th:only-of-type {\n",
       "        vertical-align: middle;\n",
       "    }\n",
       "\n",
       "    .dataframe tbody tr th {\n",
       "        vertical-align: top;\n",
       "    }\n",
       "\n",
       "    .dataframe thead th {\n",
       "        text-align: right;\n",
       "    }\n",
       "</style>\n",
       "<table border=\"1\" class=\"dataframe\">\n",
       "  <thead>\n",
       "    <tr style=\"text-align: right;\">\n",
       "      <th></th>\n",
       "      <th>st_num</th>\n",
       "      <th>year</th>\n",
       "      <th>month</th>\n",
       "      <th>latitude</th>\n",
       "      <th>longitude</th>\n",
       "      <th>elevation</th>\n",
       "      <th>min_temp</th>\n",
       "      <th>max_temp</th>\n",
       "      <th>avg_temp</th>\n",
       "      <th>min_hum</th>\n",
       "      <th>max_hum</th>\n",
       "      <th>avg_hum</th>\n",
       "      <th>avg_ws</th>\n",
       "      <th>inc_rad</th>\n",
       "      <th>sun_duration</th>\n",
       "      <th>G</th>\n",
       "      <th>Ra</th>\n",
       "      <th>Rso</th>\n",
       "      <th>Rn</th>\n",
       "      <th>ET0</th>\n",
       "    </tr>\n",
       "  </thead>\n",
       "  <tbody>\n",
       "    <tr>\n",
       "      <th>count</th>\n",
       "      <td>2172.000000</td>\n",
       "      <td>2172.000000</td>\n",
       "      <td>2172.000000</td>\n",
       "      <td>2172.000000</td>\n",
       "      <td>2172.000000</td>\n",
       "      <td>2172.000000</td>\n",
       "      <td>2172.000000</td>\n",
       "      <td>2172.000000</td>\n",
       "      <td>2172.000000</td>\n",
       "      <td>2172.000000</td>\n",
       "      <td>2172.000000</td>\n",
       "      <td>2172.000000</td>\n",
       "      <td>2172.000000</td>\n",
       "      <td>2172.000000</td>\n",
       "      <td>2172.000000</td>\n",
       "      <td>2172.000000</td>\n",
       "      <td>2172.000000</td>\n",
       "      <td>2172.000000</td>\n",
       "      <td>2172.000000</td>\n",
       "      <td>2172.000000</td>\n",
       "    </tr>\n",
       "    <tr>\n",
       "      <th>mean</th>\n",
       "      <td>17627.104972</td>\n",
       "      <td>1995.878453</td>\n",
       "      <td>6.500000</td>\n",
       "      <td>37.431709</td>\n",
       "      <td>28.721023</td>\n",
       "      <td>296.033149</td>\n",
       "      <td>5.231998</td>\n",
       "      <td>28.887201</td>\n",
       "      <td>17.059599</td>\n",
       "      <td>23.046041</td>\n",
       "      <td>93.552486</td>\n",
       "      <td>58.299263</td>\n",
       "      <td>1.452616</td>\n",
       "      <td>14.957347</td>\n",
       "      <td>7.674263</td>\n",
       "      <td>-0.002345</td>\n",
       "      <td>29.131340</td>\n",
       "      <td>22.020032</td>\n",
       "      <td>7.564482</td>\n",
       "      <td>3.894731</td>\n",
       "    </tr>\n",
       "    <tr>\n",
       "      <th>std</th>\n",
       "      <td>298.320522</td>\n",
       "      <td>7.007264</td>\n",
       "      <td>3.452847</td>\n",
       "      <td>0.538310</td>\n",
       "      <td>0.709820</td>\n",
       "      <td>328.709833</td>\n",
       "      <td>7.860968</td>\n",
       "      <td>8.113204</td>\n",
       "      <td>7.772188</td>\n",
       "      <td>7.995029</td>\n",
       "      <td>5.793269</td>\n",
       "      <td>5.463647</td>\n",
       "      <td>0.743590</td>\n",
       "      <td>6.294690</td>\n",
       "      <td>2.726288</td>\n",
       "      <td>0.540278</td>\n",
       "      <td>9.521811</td>\n",
       "      <td>7.198947</td>\n",
       "      <td>4.209858</td>\n",
       "      <td>1.846843</td>\n",
       "    </tr>\n",
       "    <tr>\n",
       "      <th>min</th>\n",
       "      <td>17186.000000</td>\n",
       "      <td>1984.000000</td>\n",
       "      <td>1.000000</td>\n",
       "      <td>36.626600</td>\n",
       "      <td>27.404900</td>\n",
       "      <td>3.000000</td>\n",
       "      <td>-20.000000</td>\n",
       "      <td>10.000000</td>\n",
       "      <td>-3.150000</td>\n",
       "      <td>0.000000</td>\n",
       "      <td>61.000000</td>\n",
       "      <td>32.000000</td>\n",
       "      <td>0.224385</td>\n",
       "      <td>2.435088</td>\n",
       "      <td>1.000000</td>\n",
       "      <td>-1.179500</td>\n",
       "      <td>14.436144</td>\n",
       "      <td>10.847607</td>\n",
       "      <td>1.421682</td>\n",
       "      <td>0.736290</td>\n",
       "    </tr>\n",
       "    <tr>\n",
       "      <th>25%</th>\n",
       "      <td>17296.000000</td>\n",
       "      <td>1990.000000</td>\n",
       "      <td>3.750000</td>\n",
       "      <td>36.970000</td>\n",
       "      <td>28.136900</td>\n",
       "      <td>24.000000</td>\n",
       "      <td>-1.000000</td>\n",
       "      <td>21.400000</td>\n",
       "      <td>10.350000</td>\n",
       "      <td>18.000000</td>\n",
       "      <td>92.000000</td>\n",
       "      <td>55.000000</td>\n",
       "      <td>0.972336</td>\n",
       "      <td>9.253962</td>\n",
       "      <td>5.400000</td>\n",
       "      <td>-0.483000</td>\n",
       "      <td>20.279842</td>\n",
       "      <td>15.232463</td>\n",
       "      <td>3.280613</td>\n",
       "      <td>2.285820</td>\n",
       "    </tr>\n",
       "    <tr>\n",
       "      <th>50%</th>\n",
       "      <td>17824.000000</td>\n",
       "      <td>1996.000000</td>\n",
       "      <td>6.500000</td>\n",
       "      <td>37.339500</td>\n",
       "      <td>28.686900</td>\n",
       "      <td>84.000000</td>\n",
       "      <td>4.850000</td>\n",
       "      <td>29.250000</td>\n",
       "      <td>17.000000</td>\n",
       "      <td>22.000000</td>\n",
       "      <td>95.000000</td>\n",
       "      <td>58.500000</td>\n",
       "      <td>1.271517</td>\n",
       "      <td>14.838556</td>\n",
       "      <td>7.500000</td>\n",
       "      <td>0.052500</td>\n",
       "      <td>29.838789</td>\n",
       "      <td>22.417886</td>\n",
       "      <td>7.568732</td>\n",
       "      <td>3.631573</td>\n",
       "    </tr>\n",
       "    <tr>\n",
       "      <th>75%</th>\n",
       "      <td>17884.000000</td>\n",
       "      <td>2001.000000</td>\n",
       "      <td>9.250000</td>\n",
       "      <td>37.913500</td>\n",
       "      <td>29.092100</td>\n",
       "      <td>425.000000</td>\n",
       "      <td>11.700000</td>\n",
       "      <td>36.200000</td>\n",
       "      <td>23.950000</td>\n",
       "      <td>28.000000</td>\n",
       "      <td>97.000000</td>\n",
       "      <td>61.500000</td>\n",
       "      <td>1.720287</td>\n",
       "      <td>20.274618</td>\n",
       "      <td>10.300000</td>\n",
       "      <td>0.497000</td>\n",
       "      <td>37.802836</td>\n",
       "      <td>28.710083</td>\n",
       "      <td>11.450577</td>\n",
       "      <td>5.299499</td>\n",
       "    </tr>\n",
       "    <tr>\n",
       "      <th>max</th>\n",
       "      <td>17924.000000</td>\n",
       "      <td>2016.000000</td>\n",
       "      <td>12.000000</td>\n",
       "      <td>38.615300</td>\n",
       "      <td>30.153100</td>\n",
       "      <td>864.000000</td>\n",
       "      <td>23.000000</td>\n",
       "      <td>45.700000</td>\n",
       "      <td>33.200000</td>\n",
       "      <td>57.000000</td>\n",
       "      <td>100.000000</td>\n",
       "      <td>77.000000</td>\n",
       "      <td>4.562502</td>\n",
       "      <td>29.664560</td>\n",
       "      <td>13.200000</td>\n",
       "      <td>1.029000</td>\n",
       "      <td>41.809913</td>\n",
       "      <td>32.063319</td>\n",
       "      <td>16.396273</td>\n",
       "      <td>10.302370</td>\n",
       "    </tr>\n",
       "  </tbody>\n",
       "</table>\n",
       "</div>"
      ],
      "text/plain": [
       "             st_num         year        month     latitude    longitude  \\\n",
       "count   2172.000000  2172.000000  2172.000000  2172.000000  2172.000000   \n",
       "mean   17627.104972  1995.878453     6.500000    37.431709    28.721023   \n",
       "std      298.320522     7.007264     3.452847     0.538310     0.709820   \n",
       "min    17186.000000  1984.000000     1.000000    36.626600    27.404900   \n",
       "25%    17296.000000  1990.000000     3.750000    36.970000    28.136900   \n",
       "50%    17824.000000  1996.000000     6.500000    37.339500    28.686900   \n",
       "75%    17884.000000  2001.000000     9.250000    37.913500    29.092100   \n",
       "max    17924.000000  2016.000000    12.000000    38.615300    30.153100   \n",
       "\n",
       "         elevation     min_temp     max_temp     avg_temp      min_hum  \\\n",
       "count  2172.000000  2172.000000  2172.000000  2172.000000  2172.000000   \n",
       "mean    296.033149     5.231998    28.887201    17.059599    23.046041   \n",
       "std     328.709833     7.860968     8.113204     7.772188     7.995029   \n",
       "min       3.000000   -20.000000    10.000000    -3.150000     0.000000   \n",
       "25%      24.000000    -1.000000    21.400000    10.350000    18.000000   \n",
       "50%      84.000000     4.850000    29.250000    17.000000    22.000000   \n",
       "75%     425.000000    11.700000    36.200000    23.950000    28.000000   \n",
       "max     864.000000    23.000000    45.700000    33.200000    57.000000   \n",
       "\n",
       "           max_hum      avg_hum       avg_ws      inc_rad  sun_duration  \\\n",
       "count  2172.000000  2172.000000  2172.000000  2172.000000   2172.000000   \n",
       "mean     93.552486    58.299263     1.452616    14.957347      7.674263   \n",
       "std       5.793269     5.463647     0.743590     6.294690      2.726288   \n",
       "min      61.000000    32.000000     0.224385     2.435088      1.000000   \n",
       "25%      92.000000    55.000000     0.972336     9.253962      5.400000   \n",
       "50%      95.000000    58.500000     1.271517    14.838556      7.500000   \n",
       "75%      97.000000    61.500000     1.720287    20.274618     10.300000   \n",
       "max     100.000000    77.000000     4.562502    29.664560     13.200000   \n",
       "\n",
       "                 G           Ra          Rso           Rn          ET0  \n",
       "count  2172.000000  2172.000000  2172.000000  2172.000000  2172.000000  \n",
       "mean     -0.002345    29.131340    22.020032     7.564482     3.894731  \n",
       "std       0.540278     9.521811     7.198947     4.209858     1.846843  \n",
       "min      -1.179500    14.436144    10.847607     1.421682     0.736290  \n",
       "25%      -0.483000    20.279842    15.232463     3.280613     2.285820  \n",
       "50%       0.052500    29.838789    22.417886     7.568732     3.631573  \n",
       "75%       0.497000    37.802836    28.710083    11.450577     5.299499  \n",
       "max       1.029000    41.809913    32.063319    16.396273    10.302370  "
      ]
     },
     "execution_count": 14,
     "metadata": {},
     "output_type": "execute_result"
    }
   ],
   "source": [
    "et.describe()"
   ]
  },
  {
   "cell_type": "markdown",
   "metadata": {},
   "source": [
    "5. Adding `date` (datetime) column"
   ]
  },
  {
   "cell_type": "code",
   "execution_count": null,
   "metadata": {},
   "outputs": [],
   "source": [
    "idx = et.columns.get_loc('st_num') + 1\n",
    "\n",
    "# Data is monthly data but datetime requires  a day entry\n",
    "# Assigning day 15 to all dates\n",
    "\n",
    "date = pd.to_datetime(et['year'].astype(str) + '-' + et['month'].astype(str) + '-15')\n",
    "\n",
    "et.insert(idx, 'date', date)"
   ]
  },
  {
   "cell_type": "markdown",
   "metadata": {},
   "source": [
    "6. Saving data"
   ]
  },
  {
   "cell_type": "code",
   "execution_count": 15,
   "metadata": {},
   "outputs": [],
   "source": [
    "# Saving to csv file\n",
    "# Enter path to save the dataset in\n",
    "# save_path = r'save\\path'\n",
    "\n",
    "file_name = 'ET0_data.csv'\n",
    "file_path = os.path.join(save_path, file_name)\n",
    "\n",
    "et.to_csv(file_path, index = False)"
   ]
  },
  {
   "cell_type": "code",
   "execution_count": null,
   "metadata": {},
   "outputs": [],
   "source": []
  }
 ],
 "metadata": {
  "kernelspec": {
   "display_name": "Python 3 (ipykernel)",
   "language": "python",
   "name": "python3"
  },
  "language_info": {
   "codemirror_mode": {
    "name": "ipython",
    "version": 3
   },
   "file_extension": ".py",
   "mimetype": "text/x-python",
   "name": "python",
   "nbconvert_exporter": "python",
   "pygments_lexer": "ipython3",
   "version": "3.9.7"
  }
 },
 "nbformat": 4,
 "nbformat_minor": 2
}
