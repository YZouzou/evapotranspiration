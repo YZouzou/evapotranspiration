{
 "cells": [
  {
   "cell_type": "code",
   "execution_count": 1,
   "id": "2039b687",
   "metadata": {},
   "outputs": [],
   "source": [
    "import numpy as np\n",
    "import pandas as pd\n",
    "import folium\n",
    "import matplotlib.pyplot as plt\n",
    "\n",
    "import os\n",
    "import glob"
   ]
  },
  {
   "cell_type": "code",
   "execution_count": 6,
   "id": "21cf4910",
   "metadata": {},
   "outputs": [],
   "source": [
    "path_to_dir = r'C:\\Users\\HP\\Desktop\\Git\\evapotranspiration\\raw_data'"
   ]
  },
  {
   "cell_type": "code",
   "execution_count": 11,
   "id": "8d99f0fe",
   "metadata": {},
   "outputs": [
    {
     "data": {
      "text/plain": [
       "['20210708C0AD-Aylık Global Güneş Radyasyonu Toplamı (kwsaat÷m²) .txt',\n",
       " '20210708C0AD-Aylık Maksimum Küresel Güneş Radyasyonu watt÷m².txt',\n",
       " '20210708C0AD-Aylık Maksimum Nispi Nem (%).txt',\n",
       " '20210708C0AD-Aylık Maksimum Sıcaklık (°C).txt',\n",
       " '20210708C0AD-Aylık Minimum Nispi Nem (%).txt',\n",
       " '20210708C0AD-Aylık Minimum Sıcaklık (°C).txt',\n",
       " '20210708C0AD-Aylık ortalama 20cm toprak nemi (%).txt',\n",
       " '20210708C0AD-Aylık Ortalama Nispi Nem (%).txt',\n",
       " '20210708C0AD-Aylık Ortalama Rüzgar Hızı (m÷sn).txt',\n",
       " '20210708C0AD-Aylık Ortalama Sıcaklık (°C).txt',\n",
       " '20210708C0AD-Aylık Ortalama Toprak Nemi 40cm %.txt',\n",
       " '20210708C0AD-Aylık Ortalama Toprak Nemi 80cm % .txt',\n",
       " '20210708C0AD-Aylık Toplam Açık Yüzey Buharlaşması (mm).txt',\n",
       " '20210708C0AD-Aylık Toplam Güneşlenme Süresi (saat).txt',\n",
       " '20210708C0AD-Aylık Toplam Yağış (mm=kg÷m²) MANUEL.txt',\n",
       " '20210708C0AD-Aylık Toplam Yağış (mm=kg÷m²) OMGİ .txt',\n",
       " '20210708C0AD-Günlük Toplam Global Güneşlenme Şiddeti Aylık Ortalaması (cal÷cm²).txt',\n",
       " '20210708C0AD-Günlük Toplam Güneşlenme Süresi Aylık Ortalaması (saat).txt',\n",
       " 'station_definitions.txt']"
      ]
     },
     "execution_count": 11,
     "metadata": {},
     "output_type": "execute_result"
    }
   ],
   "source": [
    "os.listdir(path_to_dir)"
   ]
  },
  {
   "cell_type": "code",
   "execution_count": 34,
   "id": "be98f4f9",
   "metadata": {},
   "outputs": [],
   "source": [
    "path = r\"C:\\Users\\HP\\Desktop\\Git\\University-Research\\processed_data\\station_definitions.csv\""
   ]
  },
  {
   "cell_type": "code",
   "execution_count": 35,
   "id": "c4b68763",
   "metadata": {},
   "outputs": [],
   "source": [
    "st_def = pd.read_csv(path)"
   ]
  },
  {
   "cell_type": "code",
   "execution_count": 36,
   "id": "204c06c3",
   "metadata": {},
   "outputs": [],
   "source": [
    "cond = st_def['region'] == 'Ege'\n",
    "df = st_def.loc[cond].reset_index(drop=True)"
   ]
  },
  {
   "cell_type": "code",
   "execution_count": 37,
   "id": "d6dd4b47",
   "metadata": {},
   "outputs": [
    {
     "data": {
      "text/html": [
       "<div>\n",
       "<style scoped>\n",
       "    .dataframe tbody tr th:only-of-type {\n",
       "        vertical-align: middle;\n",
       "    }\n",
       "\n",
       "    .dataframe tbody tr th {\n",
       "        vertical-align: top;\n",
       "    }\n",
       "\n",
       "    .dataframe thead th {\n",
       "        text-align: right;\n",
       "    }\n",
       "</style>\n",
       "<table border=\"1\" class=\"dataframe\">\n",
       "  <thead>\n",
       "    <tr style=\"text-align: right;\">\n",
       "      <th></th>\n",
       "      <th>st_num</th>\n",
       "      <th>st_name</th>\n",
       "      <th>province</th>\n",
       "      <th>district</th>\n",
       "      <th>latitude</th>\n",
       "      <th>longitude</th>\n",
       "      <th>elevation</th>\n",
       "      <th>region</th>\n",
       "    </tr>\n",
       "  </thead>\n",
       "  <tbody>\n",
       "    <tr>\n",
       "      <th>0</th>\n",
       "      <td>17154</td>\n",
       "      <td>K?TAHYA ZAFER HAVAL?MANI</td>\n",
       "      <td>Kütahya</td>\n",
       "      <td>Alt?nta?</td>\n",
       "      <td>39.113600</td>\n",
       "      <td>30.13020</td>\n",
       "      <td>1011.0</td>\n",
       "      <td>Ege</td>\n",
       "    </tr>\n",
       "    <tr>\n",
       "      <th>1</th>\n",
       "      <td>17755</td>\n",
       "      <td>K?TAHYA HAVAL?MANI</td>\n",
       "      <td>Kütahya</td>\n",
       "      <td>Merkez</td>\n",
       "      <td>39.419800</td>\n",
       "      <td>30.02240</td>\n",
       "      <td>922.0</td>\n",
       "      <td>Ege</td>\n",
       "    </tr>\n",
       "    <tr>\n",
       "      <th>2</th>\n",
       "      <td>17180</td>\n",
       "      <td>D?K?L?</td>\n",
       "      <td>İzmir</td>\n",
       "      <td>Dikili</td>\n",
       "      <td>39.073700</td>\n",
       "      <td>26.88800</td>\n",
       "      <td>3.0</td>\n",
       "      <td>Ege</td>\n",
       "    </tr>\n",
       "    <tr>\n",
       "      <th>3</th>\n",
       "      <td>17181</td>\n",
       "      <td>AKH?SAR HAVAL?MANI</td>\n",
       "      <td>Manisa</td>\n",
       "      <td>Akhisar</td>\n",
       "      <td>38.809500</td>\n",
       "      <td>27.83400</td>\n",
       "      <td>79.0</td>\n",
       "      <td>Ege</td>\n",
       "    </tr>\n",
       "    <tr>\n",
       "      <th>4</th>\n",
       "      <td>17184</td>\n",
       "      <td>AKH?SAR</td>\n",
       "      <td>Manisa</td>\n",
       "      <td>Akhisar</td>\n",
       "      <td>38.911800</td>\n",
       "      <td>27.82330</td>\n",
       "      <td>92.0</td>\n",
       "      <td>Ege</td>\n",
       "    </tr>\n",
       "    <tr>\n",
       "      <th>...</th>\n",
       "      <td>...</td>\n",
       "      <td>...</td>\n",
       "      <td>...</td>\n",
       "      <td>...</td>\n",
       "      <td>...</td>\n",
       "      <td>...</td>\n",
       "      <td>...</td>\n",
       "      <td>...</td>\n",
       "    </tr>\n",
       "    <tr>\n",
       "      <th>211</th>\n",
       "      <td>19164</td>\n",
       "      <td>AFYONKARAH?SAR KUMALAR TEPES? RADAR SAHASI</td>\n",
       "      <td>Afyonkarahisar</td>\n",
       "      <td>?uhut</td>\n",
       "      <td>38.401250</td>\n",
       "      <td>30.41860</td>\n",
       "      <td>2237.0</td>\n",
       "      <td>Ege</td>\n",
       "    </tr>\n",
       "    <tr>\n",
       "      <th>212</th>\n",
       "      <td>18947</td>\n",
       "      <td>SANDIKLI /BALLIK K?Y?</td>\n",
       "      <td>Afyonkarahisar</td>\n",
       "      <td>Sand?kl?</td>\n",
       "      <td>38.290500</td>\n",
       "      <td>30.23870</td>\n",
       "      <td>1208.0</td>\n",
       "      <td>Ege</td>\n",
       "    </tr>\n",
       "    <tr>\n",
       "      <th>213</th>\n",
       "      <td>17488</td>\n",
       "      <td>AL?A?A TRAF?K G?ZETLEME KEGM</td>\n",
       "      <td>İzmir</td>\n",
       "      <td>Alia?a</td>\n",
       "      <td>38.833433</td>\n",
       "      <td>26.94180</td>\n",
       "      <td>54.0</td>\n",
       "      <td>Ege</td>\n",
       "    </tr>\n",
       "    <tr>\n",
       "      <th>214</th>\n",
       "      <td>19281</td>\n",
       "      <td>?ARDAK</td>\n",
       "      <td>Denizli</td>\n",
       "      <td>?ardak</td>\n",
       "      <td>37.832410</td>\n",
       "      <td>29.66947</td>\n",
       "      <td>917.0</td>\n",
       "      <td>Ege</td>\n",
       "    </tr>\n",
       "    <tr>\n",
       "      <th>215</th>\n",
       "      <td>19359</td>\n",
       "      <td>MERKEZEFEND?</td>\n",
       "      <td>Denizli</td>\n",
       "      <td>Merkezefendi</td>\n",
       "      <td>37.776110</td>\n",
       "      <td>29.01607</td>\n",
       "      <td>589.0</td>\n",
       "      <td>Ege</td>\n",
       "    </tr>\n",
       "  </tbody>\n",
       "</table>\n",
       "<p>216 rows × 8 columns</p>\n",
       "</div>"
      ],
      "text/plain": [
       "     st_num                                     st_name        province  \\\n",
       "0     17154                    K?TAHYA ZAFER HAVAL?MANI         Kütahya   \n",
       "1     17755                          K?TAHYA HAVAL?MANI         Kütahya   \n",
       "2     17180                                      D?K?L?           İzmir   \n",
       "3     17181                          AKH?SAR HAVAL?MANI          Manisa   \n",
       "4     17184                                     AKH?SAR          Manisa   \n",
       "..      ...                                         ...             ...   \n",
       "211   19164  AFYONKARAH?SAR KUMALAR TEPES? RADAR SAHASI  Afyonkarahisar   \n",
       "212   18947                       SANDIKLI /BALLIK K?Y?  Afyonkarahisar   \n",
       "213   17488                AL?A?A TRAF?K G?ZETLEME KEGM           İzmir   \n",
       "214   19281                                      ?ARDAK         Denizli   \n",
       "215   19359                                MERKEZEFEND?         Denizli   \n",
       "\n",
       "         district   latitude  longitude  elevation region  \n",
       "0        Alt?nta?  39.113600   30.13020     1011.0    Ege  \n",
       "1          Merkez  39.419800   30.02240      922.0    Ege  \n",
       "2          Dikili  39.073700   26.88800        3.0    Ege  \n",
       "3         Akhisar  38.809500   27.83400       79.0    Ege  \n",
       "4         Akhisar  38.911800   27.82330       92.0    Ege  \n",
       "..            ...        ...        ...        ...    ...  \n",
       "211         ?uhut  38.401250   30.41860     2237.0    Ege  \n",
       "212      Sand?kl?  38.290500   30.23870     1208.0    Ege  \n",
       "213        Alia?a  38.833433   26.94180       54.0    Ege  \n",
       "214        ?ardak  37.832410   29.66947      917.0    Ege  \n",
       "215  Merkezefendi  37.776110   29.01607      589.0    Ege  \n",
       "\n",
       "[216 rows x 8 columns]"
      ]
     },
     "execution_count": 37,
     "metadata": {},
     "output_type": "execute_result"
    }
   ],
   "source": [
    "df"
   ]
  },
  {
   "cell_type": "code",
   "execution_count": 38,
   "id": "03e34015",
   "metadata": {},
   "outputs": [],
   "source": [
    "path = r\"C:\\Users\\HP\\Desktop\\Git\\University-Research\\processed_data\\ET0_data_1.csv\"\n",
    "et = pd.read_csv(path)"
   ]
  },
  {
   "cell_type": "code",
   "execution_count": 39,
   "id": "33579d70",
   "metadata": {},
   "outputs": [],
   "source": [
    "cond = et['st_num'].isin(df['st_num'])\n",
    "marmara_stations = et.loc[cond, 'st_num'].unique()"
   ]
  },
  {
   "cell_type": "code",
   "execution_count": 40,
   "id": "fe5ef30e",
   "metadata": {},
   "outputs": [],
   "source": [
    "def plot_map(stations,\n",
    "             color='blue',\n",
    "             path_to_st_def = r\"C:\\Users\\HP\\Desktop\\Git\\University-Research\\processed_data\\station_definitions.csv\"):\n",
    "    \n",
    "    \n",
    "    \n",
    "    tiles = 'https://stamen-tiles-{s}.a.ssl.fastly.net/terrain-background/{z}/{x}/{y}{r}.png'\n",
    "    attr = 'Map tiles by <a href=\"http://stamen.com\">Stamen Design</a>, <a href=\"http://creativecommons.org/licenses/by/3.0\">CC BY 3.0</a> &mdash; Map data &copy; <a href=\"https://www.openstreetmap.org/copyright\">OpenStreetMap</a> contributors'\n",
    "    location = [39, 35.5]\n",
    "    zoom = 6\n",
    "    marker_radius = 3\n",
    "    \n",
    "    # Loading station definitions\n",
    "    st_def = pd.read_csv(path_to_st_def)[['st_num', 'latitude', 'longitude', 'elevation']]\n",
    "\n",
    "    # Merging station definitions with station scores\n",
    "    cond = st_def['st_num'].isin(stations)\n",
    "    df = st_def.loc[cond].reset_index(drop=True)\n",
    "    \n",
    "    m = folium.Map(location = location, zoom_start = zoom, tiles = tiles, attr = attr)\n",
    "\n",
    "\n",
    "    for row in df.iterrows():\n",
    "        row = row[1]\n",
    "\n",
    "        # Location of station\n",
    "        loc = [row['latitude'], row['longitude']]\n",
    "\n",
    "        # Text in pop-up\n",
    "        txt = ''\n",
    "        txt += '<h5><b>Station: {}\\n</h5></b>'.format(row['st_num'])\n",
    "        txt += 'Elevation: {}'.format(row['elevation'])\n",
    "        popup = folium.Popup(txt, min_width = 100, max_width = 100)\n",
    "        folium.CircleMarker(location = loc,\n",
    "                            fill = True,\n",
    "                            fill_opacity = 0.8,\n",
    "                            opacity = 1,\n",
    "                            color = color,\n",
    "                            radius = marker_radius\n",
    "                            ).add_child(popup).add_to(m)\n",
    "\n",
    "    display(m)\n",
    "\n",
    "    return m"
   ]
  },
  {
   "cell_type": "code",
   "execution_count": 57,
   "id": "b5fa55f1",
   "metadata": {},
   "outputs": [
    {
     "data": {
      "text/html": [
       "<div style=\"width:100%;\"><div style=\"position:relative;width:100%;height:0;padding-bottom:60%;\"><span style=\"color:#565656\">Make this Notebook Trusted to load map: File -> Trust Notebook</span><iframe src=\"about:blank\" style=\"position:absolute;width:100%;height:100%;left:0;top:0;border:none !important;\" data-html=%3C%21DOCTYPE%20html%3E%0A%3Chead%3E%20%20%20%20%0A%20%20%20%20%3Cmeta%20http-equiv%3D%22content-type%22%20content%3D%22text/html%3B%20charset%3DUTF-8%22%20/%3E%0A%20%20%20%20%0A%20%20%20%20%20%20%20%20%3Cscript%3E%0A%20%20%20%20%20%20%20%20%20%20%20%20L_NO_TOUCH%20%3D%20false%3B%0A%20%20%20%20%20%20%20%20%20%20%20%20L_DISABLE_3D%20%3D%20false%3B%0A%20%20%20%20%20%20%20%20%3C/script%3E%0A%20%20%20%20%0A%20%20%20%20%3Cstyle%3Ehtml%2C%20body%20%7Bwidth%3A%20100%25%3Bheight%3A%20100%25%3Bmargin%3A%200%3Bpadding%3A%200%3B%7D%3C/style%3E%0A%20%20%20%20%3Cstyle%3E%23map%20%7Bposition%3Aabsolute%3Btop%3A0%3Bbottom%3A0%3Bright%3A0%3Bleft%3A0%3B%7D%3C/style%3E%0A%20%20%20%20%3Cscript%20src%3D%22https%3A//cdn.jsdelivr.net/npm/leaflet%401.6.0/dist/leaflet.js%22%3E%3C/script%3E%0A%20%20%20%20%3Cscript%20src%3D%22https%3A//code.jquery.com/jquery-1.12.4.min.js%22%3E%3C/script%3E%0A%20%20%20%20%3Cscript%20src%3D%22https%3A//maxcdn.bootstrapcdn.com/bootstrap/3.2.0/js/bootstrap.min.js%22%3E%3C/script%3E%0A%20%20%20%20%3Cscript%20src%3D%22https%3A//cdnjs.cloudflare.com/ajax/libs/Leaflet.awesome-markers/2.0.2/leaflet.awesome-markers.js%22%3E%3C/script%3E%0A%20%20%20%20%3Clink%20rel%3D%22stylesheet%22%20href%3D%22https%3A//cdn.jsdelivr.net/npm/leaflet%401.6.0/dist/leaflet.css%22/%3E%0A%20%20%20%20%3Clink%20rel%3D%22stylesheet%22%20href%3D%22https%3A//maxcdn.bootstrapcdn.com/bootstrap/3.2.0/css/bootstrap.min.css%22/%3E%0A%20%20%20%20%3Clink%20rel%3D%22stylesheet%22%20href%3D%22https%3A//maxcdn.bootstrapcdn.com/bootstrap/3.2.0/css/bootstrap-theme.min.css%22/%3E%0A%20%20%20%20%3Clink%20rel%3D%22stylesheet%22%20href%3D%22https%3A//maxcdn.bootstrapcdn.com/font-awesome/4.6.3/css/font-awesome.min.css%22/%3E%0A%20%20%20%20%3Clink%20rel%3D%22stylesheet%22%20href%3D%22https%3A//cdnjs.cloudflare.com/ajax/libs/Leaflet.awesome-markers/2.0.2/leaflet.awesome-markers.css%22/%3E%0A%20%20%20%20%3Clink%20rel%3D%22stylesheet%22%20href%3D%22https%3A//cdn.jsdelivr.net/gh/python-visualization/folium/folium/templates/leaflet.awesome.rotate.min.css%22/%3E%0A%20%20%20%20%0A%20%20%20%20%20%20%20%20%20%20%20%20%3Cmeta%20name%3D%22viewport%22%20content%3D%22width%3Ddevice-width%2C%0A%20%20%20%20%20%20%20%20%20%20%20%20%20%20%20%20initial-scale%3D1.0%2C%20maximum-scale%3D1.0%2C%20user-scalable%3Dno%22%20/%3E%0A%20%20%20%20%20%20%20%20%20%20%20%20%3Cstyle%3E%0A%20%20%20%20%20%20%20%20%20%20%20%20%20%20%20%20%23map_8b9db056639745ebbfa6234bc0b42c61%20%7B%0A%20%20%20%20%20%20%20%20%20%20%20%20%20%20%20%20%20%20%20%20position%3A%20relative%3B%0A%20%20%20%20%20%20%20%20%20%20%20%20%20%20%20%20%20%20%20%20width%3A%20100.0%25%3B%0A%20%20%20%20%20%20%20%20%20%20%20%20%20%20%20%20%20%20%20%20height%3A%20100.0%25%3B%0A%20%20%20%20%20%20%20%20%20%20%20%20%20%20%20%20%20%20%20%20left%3A%200.0%25%3B%0A%20%20%20%20%20%20%20%20%20%20%20%20%20%20%20%20%20%20%20%20top%3A%200.0%25%3B%0A%20%20%20%20%20%20%20%20%20%20%20%20%20%20%20%20%7D%0A%20%20%20%20%20%20%20%20%20%20%20%20%3C/style%3E%0A%20%20%20%20%20%20%20%20%0A%3C/head%3E%0A%3Cbody%3E%20%20%20%20%0A%20%20%20%20%0A%20%20%20%20%20%20%20%20%20%20%20%20%3Cdiv%20class%3D%22folium-map%22%20id%3D%22map_8b9db056639745ebbfa6234bc0b42c61%22%20%3E%3C/div%3E%0A%20%20%20%20%20%20%20%20%0A%3C/body%3E%0A%3Cscript%3E%20%20%20%20%0A%20%20%20%20%0A%20%20%20%20%20%20%20%20%20%20%20%20var%20map_8b9db056639745ebbfa6234bc0b42c61%20%3D%20L.map%28%0A%20%20%20%20%20%20%20%20%20%20%20%20%20%20%20%20%22map_8b9db056639745ebbfa6234bc0b42c61%22%2C%0A%20%20%20%20%20%20%20%20%20%20%20%20%20%20%20%20%7B%0A%20%20%20%20%20%20%20%20%20%20%20%20%20%20%20%20%20%20%20%20center%3A%20%5B39.0%2C%2035.5%5D%2C%0A%20%20%20%20%20%20%20%20%20%20%20%20%20%20%20%20%20%20%20%20crs%3A%20L.CRS.EPSG3857%2C%0A%20%20%20%20%20%20%20%20%20%20%20%20%20%20%20%20%20%20%20%20zoom%3A%206%2C%0A%20%20%20%20%20%20%20%20%20%20%20%20%20%20%20%20%20%20%20%20zoomControl%3A%20true%2C%0A%20%20%20%20%20%20%20%20%20%20%20%20%20%20%20%20%20%20%20%20preferCanvas%3A%20false%2C%0A%20%20%20%20%20%20%20%20%20%20%20%20%20%20%20%20%7D%0A%20%20%20%20%20%20%20%20%20%20%20%20%29%3B%0A%0A%20%20%20%20%20%20%20%20%20%20%20%20%0A%0A%20%20%20%20%20%20%20%20%0A%20%20%20%20%0A%20%20%20%20%20%20%20%20%20%20%20%20var%20tile_layer_3e4f1b1ac5c44a3c898b4de90dc5b5d7%20%3D%20L.tileLayer%28%0A%20%20%20%20%20%20%20%20%20%20%20%20%20%20%20%20%22https%3A//stamen-tiles-%7Bs%7D.a.ssl.fastly.net/terrain-background/%7Bz%7D/%7Bx%7D/%7By%7D%7Br%7D.png%22%2C%0A%20%20%20%20%20%20%20%20%20%20%20%20%20%20%20%20%7B%22attribution%22%3A%20%22Map%20tiles%20by%20%5Cu003ca%20href%3D%5C%22http%3A//stamen.com%5C%22%5Cu003eStamen%20Design%5Cu003c/a%5Cu003e%2C%20%5Cu003ca%20href%3D%5C%22http%3A//creativecommons.org/licenses/by/3.0%5C%22%5Cu003eCC%20BY%203.0%5Cu003c/a%5Cu003e%20%5Cu0026mdash%3B%20Map%20data%20%5Cu0026copy%3B%20%5Cu003ca%20href%3D%5C%22https%3A//www.openstreetmap.org/copyright%5C%22%5Cu003eOpenStreetMap%5Cu003c/a%5Cu003e%20contributors%22%2C%20%22detectRetina%22%3A%20false%2C%20%22maxNativeZoom%22%3A%2018%2C%20%22maxZoom%22%3A%2018%2C%20%22minZoom%22%3A%200%2C%20%22noWrap%22%3A%20false%2C%20%22opacity%22%3A%201%2C%20%22subdomains%22%3A%20%22abc%22%2C%20%22tms%22%3A%20false%7D%0A%20%20%20%20%20%20%20%20%20%20%20%20%29.addTo%28map_8b9db056639745ebbfa6234bc0b42c61%29%3B%0A%20%20%20%20%20%20%20%20%0A%20%20%20%20%0A%20%20%20%20%20%20%20%20%20%20%20%20var%20circle_marker_bdf6adac1f074ea6a862f872b7bb2ebb%20%3D%20L.circleMarker%28%0A%20%20%20%20%20%20%20%20%20%20%20%20%20%20%20%20%5B38.6153%2C%2027.4049%5D%2C%0A%20%20%20%20%20%20%20%20%20%20%20%20%20%20%20%20%7B%22bubblingMouseEvents%22%3A%20true%2C%20%22color%22%3A%20%22blue%22%2C%20%22dashArray%22%3A%20null%2C%20%22dashOffset%22%3A%20null%2C%20%22fill%22%3A%20true%2C%20%22fillColor%22%3A%20%22blue%22%2C%20%22fillOpacity%22%3A%200.8%2C%20%22fillRule%22%3A%20%22evenodd%22%2C%20%22lineCap%22%3A%20%22round%22%2C%20%22lineJoin%22%3A%20%22round%22%2C%20%22opacity%22%3A%201%2C%20%22radius%22%3A%203%2C%20%22stroke%22%3A%20true%2C%20%22weight%22%3A%203%7D%0A%20%20%20%20%20%20%20%20%20%20%20%20%29.addTo%28map_8b9db056639745ebbfa6234bc0b42c61%29%3B%0A%20%20%20%20%20%20%20%20%0A%20%20%20%20%0A%20%20%20%20%20%20%20%20var%20popup_f66af32d460b40dca24523e6673f12e5%20%3D%20L.popup%28%7B%22maxWidth%22%3A%20100%2C%20%22minWidth%22%3A%20100%7D%29%3B%0A%0A%20%20%20%20%20%20%20%20%0A%20%20%20%20%20%20%20%20%20%20%20%20var%20html_2140cd44bfa84f4c9bc1c30869a42b50%20%3D%20%24%28%60%3Cdiv%20id%3D%22html_2140cd44bfa84f4c9bc1c30869a42b50%22%20style%3D%22width%3A%20100.0%25%3B%20height%3A%20100.0%25%3B%22%3E%3Ch5%3E%3Cb%3EStation%3A%2017186.0%20%3C/h5%3E%3C/b%3EElevation%3A%2071.0%3C/div%3E%60%29%5B0%5D%3B%0A%20%20%20%20%20%20%20%20%20%20%20%20popup_f66af32d460b40dca24523e6673f12e5.setContent%28html_2140cd44bfa84f4c9bc1c30869a42b50%29%3B%0A%20%20%20%20%20%20%20%20%0A%0A%20%20%20%20%20%20%20%20circle_marker_bdf6adac1f074ea6a862f872b7bb2ebb.bindPopup%28popup_f66af32d460b40dca24523e6673f12e5%29%0A%20%20%20%20%20%20%20%20%3B%0A%0A%20%20%20%20%20%20%20%20%0A%20%20%20%20%0A%20%20%20%20%0A%20%20%20%20%20%20%20%20%20%20%20%20var%20circle_marker_ede08fd409f54c4fb98263ac38f4bd8a%20%3D%20L.circleMarker%28%0A%20%20%20%20%20%20%20%20%20%20%20%20%20%20%20%20%5B37.762%2C%2029.0921%5D%2C%0A%20%20%20%20%20%20%20%20%20%20%20%20%20%20%20%20%7B%22bubblingMouseEvents%22%3A%20true%2C%20%22color%22%3A%20%22blue%22%2C%20%22dashArray%22%3A%20null%2C%20%22dashOffset%22%3A%20null%2C%20%22fill%22%3A%20true%2C%20%22fillColor%22%3A%20%22blue%22%2C%20%22fillOpacity%22%3A%200.8%2C%20%22fillRule%22%3A%20%22evenodd%22%2C%20%22lineCap%22%3A%20%22round%22%2C%20%22lineJoin%22%3A%20%22round%22%2C%20%22opacity%22%3A%201%2C%20%22radius%22%3A%203%2C%20%22stroke%22%3A%20true%2C%20%22weight%22%3A%203%7D%0A%20%20%20%20%20%20%20%20%20%20%20%20%29.addTo%28map_8b9db056639745ebbfa6234bc0b42c61%29%3B%0A%20%20%20%20%20%20%20%20%0A%20%20%20%20%0A%20%20%20%20%20%20%20%20var%20popup_d4892c75eb374f8da8b5d4a09d792895%20%3D%20L.popup%28%7B%22maxWidth%22%3A%20100%2C%20%22minWidth%22%3A%20100%7D%29%3B%0A%0A%20%20%20%20%20%20%20%20%0A%20%20%20%20%20%20%20%20%20%20%20%20var%20html_dd6a1258b9554ce58f1092d7facf2335%20%3D%20%24%28%60%3Cdiv%20id%3D%22html_dd6a1258b9554ce58f1092d7facf2335%22%20style%3D%22width%3A%20100.0%25%3B%20height%3A%20100.0%25%3B%22%3E%3Ch5%3E%3Cb%3EStation%3A%2017237.0%20%3C/h5%3E%3C/b%3EElevation%3A%20425.0%3C/div%3E%60%29%5B0%5D%3B%0A%20%20%20%20%20%20%20%20%20%20%20%20popup_d4892c75eb374f8da8b5d4a09d792895.setContent%28html_dd6a1258b9554ce58f1092d7facf2335%29%3B%0A%20%20%20%20%20%20%20%20%0A%0A%20%20%20%20%20%20%20%20circle_marker_ede08fd409f54c4fb98263ac38f4bd8a.bindPopup%28popup_d4892c75eb374f8da8b5d4a09d792895%29%0A%20%20%20%20%20%20%20%20%3B%0A%0A%20%20%20%20%20%20%20%20%0A%20%20%20%20%0A%20%20%20%20%0A%20%20%20%20%20%20%20%20%20%20%20%20var%20circle_marker_46ca1a26870c4b12b6efc95ebe92214c%20%3D%20L.circleMarker%28%0A%20%20%20%20%20%20%20%20%20%20%20%20%20%20%20%20%5B36.6266%2C%2029.1238%5D%2C%0A%20%20%20%20%20%20%20%20%20%20%20%20%20%20%20%20%7B%22bubblingMouseEvents%22%3A%20true%2C%20%22color%22%3A%20%22blue%22%2C%20%22dashArray%22%3A%20null%2C%20%22dashOffset%22%3A%20null%2C%20%22fill%22%3A%20true%2C%20%22fillColor%22%3A%20%22blue%22%2C%20%22fillOpacity%22%3A%200.8%2C%20%22fillRule%22%3A%20%22evenodd%22%2C%20%22lineCap%22%3A%20%22round%22%2C%20%22lineJoin%22%3A%20%22round%22%2C%20%22opacity%22%3A%201%2C%20%22radius%22%3A%203%2C%20%22stroke%22%3A%20true%2C%20%22weight%22%3A%203%7D%0A%20%20%20%20%20%20%20%20%20%20%20%20%29.addTo%28map_8b9db056639745ebbfa6234bc0b42c61%29%3B%0A%20%20%20%20%20%20%20%20%0A%20%20%20%20%0A%20%20%20%20%20%20%20%20var%20popup_be388b87c0f047ffa9fa362041f0e14c%20%3D%20L.popup%28%7B%22maxWidth%22%3A%20100%2C%20%22minWidth%22%3A%20100%7D%29%3B%0A%0A%20%20%20%20%20%20%20%20%0A%20%20%20%20%20%20%20%20%20%20%20%20var%20html_7320b18f555a4a67bc7b4a79b1d29a1f%20%3D%20%24%28%60%3Cdiv%20id%3D%22html_7320b18f555a4a67bc7b4a79b1d29a1f%22%20style%3D%22width%3A%20100.0%25%3B%20height%3A%20100.0%25%3B%22%3E%3Ch5%3E%3Cb%3EStation%3A%2017296.0%20%3C/h5%3E%3C/b%3EElevation%3A%203.0%3C/div%3E%60%29%5B0%5D%3B%0A%20%20%20%20%20%20%20%20%20%20%20%20popup_be388b87c0f047ffa9fa362041f0e14c.setContent%28html_7320b18f555a4a67bc7b4a79b1d29a1f%29%3B%0A%20%20%20%20%20%20%20%20%0A%0A%20%20%20%20%20%20%20%20circle_marker_46ca1a26870c4b12b6efc95ebe92214c.bindPopup%28popup_be388b87c0f047ffa9fa362041f0e14c%29%0A%20%20%20%20%20%20%20%20%3B%0A%0A%20%20%20%20%20%20%20%20%0A%20%20%20%20%0A%20%20%20%20%0A%20%20%20%20%20%20%20%20%20%20%20%20var%20circle_marker_89191a214448487f825f9bab4e01840d%20%3D%20L.circleMarker%28%0A%20%20%20%20%20%20%20%20%20%20%20%20%20%20%20%20%5B36.8395%2C%2028.2452%5D%2C%0A%20%20%20%20%20%20%20%20%20%20%20%20%20%20%20%20%7B%22bubblingMouseEvents%22%3A%20true%2C%20%22color%22%3A%20%22blue%22%2C%20%22dashArray%22%3A%20null%2C%20%22dashOffset%22%3A%20null%2C%20%22fill%22%3A%20true%2C%20%22fillColor%22%3A%20%22blue%22%2C%20%22fillOpacity%22%3A%200.8%2C%20%22fillRule%22%3A%20%22evenodd%22%2C%20%22lineCap%22%3A%20%22round%22%2C%20%22lineJoin%22%3A%20%22round%22%2C%20%22opacity%22%3A%201%2C%20%22radius%22%3A%203%2C%20%22stroke%22%3A%20true%2C%20%22weight%22%3A%203%7D%0A%20%20%20%20%20%20%20%20%20%20%20%20%29.addTo%28map_8b9db056639745ebbfa6234bc0b42c61%29%3B%0A%20%20%20%20%20%20%20%20%0A%20%20%20%20%0A%20%20%20%20%20%20%20%20var%20popup_7d01d5cea0734f9cbd2eee81025d5abe%20%3D%20L.popup%28%7B%22maxWidth%22%3A%20100%2C%20%22minWidth%22%3A%20100%7D%29%3B%0A%0A%20%20%20%20%20%20%20%20%0A%20%20%20%20%20%20%20%20%20%20%20%20var%20html_7c509b3705374b43afa89ae08f3c61d4%20%3D%20%24%28%60%3Cdiv%20id%3D%22html_7c509b3705374b43afa89ae08f3c61d4%22%20style%3D%22width%3A%20100.0%25%3B%20height%3A%20100.0%25%3B%22%3E%3Ch5%3E%3Cb%3EStation%3A%2017298.0%20%3C/h5%3E%3C/b%3EElevation%3A%2016.0%3C/div%3E%60%29%5B0%5D%3B%0A%20%20%20%20%20%20%20%20%20%20%20%20popup_7d01d5cea0734f9cbd2eee81025d5abe.setContent%28html_7c509b3705374b43afa89ae08f3c61d4%29%3B%0A%20%20%20%20%20%20%20%20%0A%0A%20%20%20%20%20%20%20%20circle_marker_89191a214448487f825f9bab4e01840d.bindPopup%28popup_7d01d5cea0734f9cbd2eee81025d5abe%29%0A%20%20%20%20%20%20%20%20%3B%0A%0A%20%20%20%20%20%20%20%20%0A%20%20%20%20%0A%20%20%20%20%0A%20%20%20%20%20%20%20%20%20%20%20%20var%20circle_marker_2812f321dce54741b493ba3986c719c4%20%3D%20L.circleMarker%28%0A%20%20%20%20%20%20%20%20%20%20%20%20%20%20%20%20%5B38.1515%2C%2029.0587%5D%2C%0A%20%20%20%20%20%20%20%20%20%20%20%20%20%20%20%20%7B%22bubblingMouseEvents%22%3A%20true%2C%20%22color%22%3A%20%22blue%22%2C%20%22dashArray%22%3A%20null%2C%20%22dashOffset%22%3A%20null%2C%20%22fill%22%3A%20true%2C%20%22fillColor%22%3A%20%22blue%22%2C%20%22fillOpacity%22%3A%200.8%2C%20%22fillRule%22%3A%20%22evenodd%22%2C%20%22lineCap%22%3A%20%22round%22%2C%20%22lineJoin%22%3A%20%22round%22%2C%20%22opacity%22%3A%201%2C%20%22radius%22%3A%203%2C%20%22stroke%22%3A%20true%2C%20%22weight%22%3A%203%7D%0A%20%20%20%20%20%20%20%20%20%20%20%20%29.addTo%28map_8b9db056639745ebbfa6234bc0b42c61%29%3B%0A%20%20%20%20%20%20%20%20%0A%20%20%20%20%0A%20%20%20%20%20%20%20%20var%20popup_bc11b1ff9f2e4d05866ad3961c08408d%20%3D%20L.popup%28%7B%22maxWidth%22%3A%20100%2C%20%22minWidth%22%3A%20100%7D%29%3B%0A%0A%20%20%20%20%20%20%20%20%0A%20%20%20%20%20%20%20%20%20%20%20%20var%20html_5cd6a87dffe649448e17e5c10f1d5181%20%3D%20%24%28%60%3Cdiv%20id%3D%22html_5cd6a87dffe649448e17e5c10f1d5181%22%20style%3D%22width%3A%20100.0%25%3B%20height%3A%20100.0%25%3B%22%3E%3Ch5%3E%3Cb%3EStation%3A%2017824.0%20%3C/h5%3E%3C/b%3EElevation%3A%20825.0%3C/div%3E%60%29%5B0%5D%3B%0A%20%20%20%20%20%20%20%20%20%20%20%20popup_bc11b1ff9f2e4d05866ad3961c08408d.setContent%28html_5cd6a87dffe649448e17e5c10f1d5181%29%3B%0A%20%20%20%20%20%20%20%20%0A%0A%20%20%20%20%20%20%20%20circle_marker_2812f321dce54741b493ba3986c719c4.bindPopup%28popup_bc11b1ff9f2e4d05866ad3961c08408d%29%0A%20%20%20%20%20%20%20%20%3B%0A%0A%20%20%20%20%20%20%20%20%0A%20%20%20%20%0A%20%20%20%20%0A%20%20%20%20%20%20%20%20%20%20%20%20var%20circle_marker_5f76bc8b7931401e8d0d83807a20a7e3%20%3D%20L.circleMarker%28%0A%20%20%20%20%20%20%20%20%20%20%20%20%20%20%20%20%5B37.9135%2C%2028.3437%5D%2C%0A%20%20%20%20%20%20%20%20%20%20%20%20%20%20%20%20%7B%22bubblingMouseEvents%22%3A%20true%2C%20%22color%22%3A%20%22blue%22%2C%20%22dashArray%22%3A%20null%2C%20%22dashOffset%22%3A%20null%2C%20%22fill%22%3A%20true%2C%20%22fillColor%22%3A%20%22blue%22%2C%20%22fillOpacity%22%3A%200.8%2C%20%22fillRule%22%3A%20%22evenodd%22%2C%20%22lineCap%22%3A%20%22round%22%2C%20%22lineJoin%22%3A%20%22round%22%2C%20%22opacity%22%3A%201%2C%20%22radius%22%3A%203%2C%20%22stroke%22%3A%20true%2C%20%22weight%22%3A%203%7D%0A%20%20%20%20%20%20%20%20%20%20%20%20%29.addTo%28map_8b9db056639745ebbfa6234bc0b42c61%29%3B%0A%20%20%20%20%20%20%20%20%0A%20%20%20%20%0A%20%20%20%20%20%20%20%20var%20popup_1a2cbb7969fa427a92a06e87e8d90f07%20%3D%20L.popup%28%7B%22maxWidth%22%3A%20100%2C%20%22minWidth%22%3A%20100%7D%29%3B%0A%0A%20%20%20%20%20%20%20%20%0A%20%20%20%20%20%20%20%20%20%20%20%20var%20html_1265b7ce29fe436c92274d4b7e69298f%20%3D%20%24%28%60%3Cdiv%20id%3D%22html_1265b7ce29fe436c92274d4b7e69298f%22%20style%3D%22width%3A%20100.0%25%3B%20height%3A%20100.0%25%3B%22%3E%3Ch5%3E%3Cb%3EStation%3A%2017860.0%20%3C/h5%3E%3C/b%3EElevation%3A%2084.0%3C/div%3E%60%29%5B0%5D%3B%0A%20%20%20%20%20%20%20%20%20%20%20%20popup_1a2cbb7969fa427a92a06e87e8d90f07.setContent%28html_1265b7ce29fe436c92274d4b7e69298f%29%3B%0A%20%20%20%20%20%20%20%20%0A%0A%20%20%20%20%20%20%20%20circle_marker_5f76bc8b7931401e8d0d83807a20a7e3.bindPopup%28popup_1a2cbb7969fa427a92a06e87e8d90f07%29%0A%20%20%20%20%20%20%20%20%3B%0A%0A%20%20%20%20%20%20%20%20%0A%20%20%20%20%0A%20%20%20%20%0A%20%20%20%20%20%20%20%20%20%20%20%20var%20circle_marker_5d426629973a46aebd78211d4e38e9da%20%3D%20L.circleMarker%28%0A%20%20%20%20%20%20%20%20%20%20%20%20%20%20%20%20%5B38.0597%2C%2030.1531%5D%2C%0A%20%20%20%20%20%20%20%20%20%20%20%20%20%20%20%20%7B%22bubblingMouseEvents%22%3A%20true%2C%20%22color%22%3A%20%22blue%22%2C%20%22dashArray%22%3A%20null%2C%20%22dashOffset%22%3A%20null%2C%20%22fill%22%3A%20true%2C%20%22fillColor%22%3A%20%22blue%22%2C%20%22fillOpacity%22%3A%200.8%2C%20%22fillRule%22%3A%20%22evenodd%22%2C%20%22lineCap%22%3A%20%22round%22%2C%20%22lineJoin%22%3A%20%22round%22%2C%20%22opacity%22%3A%201%2C%20%22radius%22%3A%203%2C%20%22stroke%22%3A%20true%2C%20%22weight%22%3A%203%7D%0A%20%20%20%20%20%20%20%20%20%20%20%20%29.addTo%28map_8b9db056639745ebbfa6234bc0b42c61%29%3B%0A%20%20%20%20%20%20%20%20%0A%20%20%20%20%0A%20%20%20%20%20%20%20%20var%20popup_324d1c519a1349d4848ae5fba2be5c2d%20%3D%20L.popup%28%7B%22maxWidth%22%3A%20100%2C%20%22minWidth%22%3A%20100%7D%29%3B%0A%0A%20%20%20%20%20%20%20%20%0A%20%20%20%20%20%20%20%20%20%20%20%20var%20html_87489b2ef560429d8b4aecee54353c2f%20%3D%20%24%28%60%3Cdiv%20id%3D%22html_87489b2ef560429d8b4aecee54353c2f%22%20style%3D%22width%3A%20100.0%25%3B%20height%3A%20100.0%25%3B%22%3E%3Ch5%3E%3Cb%3EStation%3A%2017862.0%20%3C/h5%3E%3C/b%3EElevation%3A%20864.0%3C/div%3E%60%29%5B0%5D%3B%0A%20%20%20%20%20%20%20%20%20%20%20%20popup_324d1c519a1349d4848ae5fba2be5c2d.setContent%28html_87489b2ef560429d8b4aecee54353c2f%29%3B%0A%20%20%20%20%20%20%20%20%0A%0A%20%20%20%20%20%20%20%20circle_marker_5d426629973a46aebd78211d4e38e9da.bindPopup%28popup_324d1c519a1349d4848ae5fba2be5c2d%29%0A%20%20%20%20%20%20%20%20%3B%0A%0A%20%20%20%20%20%20%20%20%0A%20%20%20%20%0A%20%20%20%20%0A%20%20%20%20%20%20%20%20%20%20%20%20var%20circle_marker_805cc417649b4c17817f64c6765293af%20%3D%20L.circleMarker%28%0A%20%20%20%20%20%20%20%20%20%20%20%20%20%20%20%20%5B37.3027%2C%2027.7804%5D%2C%0A%20%20%20%20%20%20%20%20%20%20%20%20%20%20%20%20%7B%22bubblingMouseEvents%22%3A%20true%2C%20%22color%22%3A%20%22blue%22%2C%20%22dashArray%22%3A%20null%2C%20%22dashOffset%22%3A%20null%2C%20%22fill%22%3A%20true%2C%20%22fillColor%22%3A%20%22blue%22%2C%20%22fillOpacity%22%3A%200.8%2C%20%22fillRule%22%3A%20%22evenodd%22%2C%20%22lineCap%22%3A%20%22round%22%2C%20%22lineJoin%22%3A%20%22round%22%2C%20%22opacity%22%3A%201%2C%20%22radius%22%3A%203%2C%20%22stroke%22%3A%20true%2C%20%22weight%22%3A%203%7D%0A%20%20%20%20%20%20%20%20%20%20%20%20%29.addTo%28map_8b9db056639745ebbfa6234bc0b42c61%29%3B%0A%20%20%20%20%20%20%20%20%0A%20%20%20%20%0A%20%20%20%20%20%20%20%20var%20popup_46b9e4f9c0d348d99a62443bbe70d2e2%20%3D%20L.popup%28%7B%22maxWidth%22%3A%20100%2C%20%22minWidth%22%3A%20100%7D%29%3B%0A%0A%20%20%20%20%20%20%20%20%0A%20%20%20%20%20%20%20%20%20%20%20%20var%20html_5990418998f84226b21f5e433aa56516%20%3D%20%24%28%60%3Cdiv%20id%3D%22html_5990418998f84226b21f5e433aa56516%22%20style%3D%22width%3A%20100.0%25%3B%20height%3A%20100.0%25%3B%22%3E%3Ch5%3E%3Cb%3EStation%3A%2017884.0%20%3C/h5%3E%3C/b%3EElevation%3A%2057.0%3C/div%3E%60%29%5B0%5D%3B%0A%20%20%20%20%20%20%20%20%20%20%20%20popup_46b9e4f9c0d348d99a62443bbe70d2e2.setContent%28html_5990418998f84226b21f5e433aa56516%29%3B%0A%20%20%20%20%20%20%20%20%0A%0A%20%20%20%20%20%20%20%20circle_marker_805cc417649b4c17817f64c6765293af.bindPopup%28popup_46b9e4f9c0d348d99a62443bbe70d2e2%29%0A%20%20%20%20%20%20%20%20%3B%0A%0A%20%20%20%20%20%20%20%20%0A%20%20%20%20%0A%20%20%20%20%0A%20%20%20%20%20%20%20%20%20%20%20%20var%20circle_marker_8df1dc5219b149d593cecb919a0fe2e6%20%3D%20L.circleMarker%28%0A%20%20%20%20%20%20%20%20%20%20%20%20%20%20%20%20%5B37.3395%2C%2028.1369%5D%2C%0A%20%20%20%20%20%20%20%20%20%20%20%20%20%20%20%20%7B%22bubblingMouseEvents%22%3A%20true%2C%20%22color%22%3A%20%22blue%22%2C%20%22dashArray%22%3A%20null%2C%20%22dashOffset%22%3A%20null%2C%20%22fill%22%3A%20true%2C%20%22fillColor%22%3A%20%22blue%22%2C%20%22fillOpacity%22%3A%200.8%2C%20%22fillRule%22%3A%20%22evenodd%22%2C%20%22lineCap%22%3A%20%22round%22%2C%20%22lineJoin%22%3A%20%22round%22%2C%20%22opacity%22%3A%201%2C%20%22radius%22%3A%203%2C%20%22stroke%22%3A%20true%2C%20%22weight%22%3A%203%7D%0A%20%20%20%20%20%20%20%20%20%20%20%20%29.addTo%28map_8b9db056639745ebbfa6234bc0b42c61%29%3B%0A%20%20%20%20%20%20%20%20%0A%20%20%20%20%0A%20%20%20%20%20%20%20%20var%20popup_0b17106b675548c3ad5c5b496a965a97%20%3D%20L.popup%28%7B%22maxWidth%22%3A%20100%2C%20%22minWidth%22%3A%20100%7D%29%3B%0A%0A%20%20%20%20%20%20%20%20%0A%20%20%20%20%20%20%20%20%20%20%20%20var%20html_9f33f280bc31468ab7ba059ee4c33170%20%3D%20%24%28%60%3Cdiv%20id%3D%22html_9f33f280bc31468ab7ba059ee4c33170%22%20style%3D%22width%3A%20100.0%25%3B%20height%3A%20100.0%25%3B%22%3E%3Ch5%3E%3Cb%3EStation%3A%2017886.0%20%3C/h5%3E%3C/b%3EElevation%3A%20365.0%3C/div%3E%60%29%5B0%5D%3B%0A%20%20%20%20%20%20%20%20%20%20%20%20popup_0b17106b675548c3ad5c5b496a965a97.setContent%28html_9f33f280bc31468ab7ba059ee4c33170%29%3B%0A%20%20%20%20%20%20%20%20%0A%0A%20%20%20%20%20%20%20%20circle_marker_8df1dc5219b149d593cecb919a0fe2e6.bindPopup%28popup_0b17106b675548c3ad5c5b496a965a97%29%0A%20%20%20%20%20%20%20%20%3B%0A%0A%20%20%20%20%20%20%20%20%0A%20%20%20%20%0A%20%20%20%20%0A%20%20%20%20%20%20%20%20%20%20%20%20var%20circle_marker_32f2b8628e6042a387ac7ee9dd2d3b35%20%3D%20L.circleMarker%28%0A%20%20%20%20%20%20%20%20%20%20%20%20%20%20%20%20%5B36.97%2C%2028.6869%5D%2C%0A%20%20%20%20%20%20%20%20%20%20%20%20%20%20%20%20%7B%22bubblingMouseEvents%22%3A%20true%2C%20%22color%22%3A%20%22blue%22%2C%20%22dashArray%22%3A%20null%2C%20%22dashOffset%22%3A%20null%2C%20%22fill%22%3A%20true%2C%20%22fillColor%22%3A%20%22blue%22%2C%20%22fillOpacity%22%3A%200.8%2C%20%22fillRule%22%3A%20%22evenodd%22%2C%20%22lineCap%22%3A%20%22round%22%2C%20%22lineJoin%22%3A%20%22round%22%2C%20%22opacity%22%3A%201%2C%20%22radius%22%3A%203%2C%20%22stroke%22%3A%20true%2C%20%22weight%22%3A%203%7D%0A%20%20%20%20%20%20%20%20%20%20%20%20%29.addTo%28map_8b9db056639745ebbfa6234bc0b42c61%29%3B%0A%20%20%20%20%20%20%20%20%0A%20%20%20%20%0A%20%20%20%20%20%20%20%20var%20popup_716d7a6336d84d1fbe3b2664038ea4d7%20%3D%20L.popup%28%7B%22maxWidth%22%3A%20100%2C%20%22minWidth%22%3A%20100%7D%29%3B%0A%0A%20%20%20%20%20%20%20%20%0A%20%20%20%20%20%20%20%20%20%20%20%20var%20html_d41e76b5679e4d44844029fbffd0d841%20%3D%20%24%28%60%3Cdiv%20id%3D%22html_d41e76b5679e4d44844029fbffd0d841%22%20style%3D%22width%3A%20100.0%25%3B%20height%3A%20100.0%25%3B%22%3E%3Ch5%3E%3Cb%3EStation%3A%2017924.0%20%3C/h5%3E%3C/b%3EElevation%3A%2024.0%3C/div%3E%60%29%5B0%5D%3B%0A%20%20%20%20%20%20%20%20%20%20%20%20popup_716d7a6336d84d1fbe3b2664038ea4d7.setContent%28html_d41e76b5679e4d44844029fbffd0d841%29%3B%0A%20%20%20%20%20%20%20%20%0A%0A%20%20%20%20%20%20%20%20circle_marker_32f2b8628e6042a387ac7ee9dd2d3b35.bindPopup%28popup_716d7a6336d84d1fbe3b2664038ea4d7%29%0A%20%20%20%20%20%20%20%20%3B%0A%0A%20%20%20%20%20%20%20%20%0A%20%20%20%20%0A%3C/script%3E onload=\"this.contentDocument.open();this.contentDocument.write(    decodeURIComponent(this.getAttribute('data-html')));this.contentDocument.close();\" allowfullscreen webkitallowfullscreen mozallowfullscreen></iframe></div></div>"
      ],
      "text/plain": [
       "<folium.folium.Map at 0x1846bbc60d0>"
      ]
     },
     "metadata": {},
     "output_type": "display_data"
    }
   ],
   "source": [
    "st = np.random.choice(marmara_stations, size=10, replace=False)\n",
    "m = plot_map(st)\n"
   ]
  },
  {
   "cell_type": "code",
   "execution_count": 58,
   "id": "9607a4f9",
   "metadata": {},
   "outputs": [
    {
     "data": {
      "text/plain": [
       "array([17186, 17237, 17298, 17886, 17924, 17824, 17884, 17296, 17860,\n",
       "       17862], dtype=int64)"
      ]
     },
     "execution_count": 58,
     "metadata": {},
     "output_type": "execute_result"
    }
   ],
   "source": [
    "st"
   ]
  },
  {
   "cell_type": "code",
   "execution_count": 65,
   "id": "cd47efd1",
   "metadata": {},
   "outputs": [],
   "source": [
    "cond = df['st_num'].isin(st)\n",
    "others = df.loc[~cond]\n",
    "\n",
    "_ = others['st_num'].sample(5).to_numpy()\n",
    "\n",
    "stations = np.concatenate([_, st])"
   ]
  },
  {
   "cell_type": "code",
   "execution_count": 68,
   "id": "b9472b16",
   "metadata": {},
   "outputs": [
    {
     "data": {
      "text/plain": [
       "array([18822, 17257, 18298, 17227, 18032, 17186, 17237, 17298, 17886,\n",
       "       17924, 17824, 17884, 17296, 17860, 17862], dtype=int64)"
      ]
     },
     "execution_count": 68,
     "metadata": {},
     "output_type": "execute_result"
    }
   ],
   "source": [
    "stations"
   ]
  },
  {
   "cell_type": "code",
   "execution_count": 70,
   "id": "d2bdade8",
   "metadata": {},
   "outputs": [],
   "source": [
    "paths = os.listdir(path_to_dir)"
   ]
  },
  {
   "cell_type": "code",
   "execution_count": 73,
   "id": "70a7e8fd",
   "metadata": {},
   "outputs": [],
   "source": [
    "path = os.path.join(path_to_dir, paths[0])\n",
    "test = pd.read_csv(path, sep='|')"
   ]
  },
  {
   "cell_type": "code",
   "execution_count": 99,
   "id": "383ab16f",
   "metadata": {},
   "outputs": [],
   "source": [
    "def replace_stations(file_name, st_to_keep, read_path, save_path):\n",
    "    path = os.path.join(read_path, file_name)\n",
    "    \n",
    "    df = pd.read_csv(path, sep='|')\n",
    "    \n",
    "    col_name = 'Istasyon_No'\n",
    "    if file_name == 'station_definitions.txt':\n",
    "        col_name = '?stasyon Numaras?'\n",
    "        \n",
    "    cond = df[col_name].isin(st_to_keep)\n",
    "    df = df.loc[cond]\n",
    "    \n",
    "    path = os.path.join(save_path, file_name)\n",
    "    df.to_csv(path, sep='|', index=False)"
   ]
  },
  {
   "cell_type": "code",
   "execution_count": 100,
   "id": "d55b12fa",
   "metadata": {},
   "outputs": [],
   "source": [
    "files = os.listdir(path_to_dir)\n",
    "# files.remove('station_definitions.txt')\n",
    "files.remove('new_files')"
   ]
  },
  {
   "cell_type": "code",
   "execution_count": 101,
   "id": "fa9fdbad",
   "metadata": {},
   "outputs": [
    {
     "name": "stdout",
     "output_type": "stream",
     "text": [
      "20210708C0AD-Aylık Global Güneş Radyasyonu Toplamı (kwsaat÷m²) .txt\n",
      "20210708C0AD-Aylık Maksimum Küresel Güneş Radyasyonu watt÷m².txt\n",
      "20210708C0AD-Aylık Maksimum Nispi Nem (%).txt\n",
      "20210708C0AD-Aylık Maksimum Sıcaklık (°C).txt\n",
      "20210708C0AD-Aylık Minimum Nispi Nem (%).txt\n",
      "20210708C0AD-Aylık Minimum Sıcaklık (°C).txt\n",
      "20210708C0AD-Aylık ortalama 20cm toprak nemi (%).txt\n",
      "20210708C0AD-Aylık Ortalama Nispi Nem (%).txt\n",
      "20210708C0AD-Aylık Ortalama Rüzgar Hızı (m÷sn).txt\n",
      "20210708C0AD-Aylık Ortalama Sıcaklık (°C).txt\n",
      "20210708C0AD-Aylık Ortalama Toprak Nemi 40cm %.txt\n",
      "20210708C0AD-Aylık Ortalama Toprak Nemi 80cm % .txt\n",
      "20210708C0AD-Aylık Toplam Açık Yüzey Buharlaşması (mm).txt\n",
      "20210708C0AD-Aylık Toplam Güneşlenme Süresi (saat).txt\n",
      "20210708C0AD-Aylık Toplam Yağış (mm=kg÷m²) MANUEL.txt\n",
      "20210708C0AD-Aylık Toplam Yağış (mm=kg÷m²) OMGİ .txt\n",
      "20210708C0AD-Günlük Toplam Global Güneşlenme Şiddeti Aylık Ortalaması (cal÷cm²).txt\n",
      "20210708C0AD-Günlük Toplam Güneşlenme Süresi Aylık Ortalaması (saat).txt\n",
      "station_definitions.txt\n"
     ]
    }
   ],
   "source": [
    "save_path = r'C:\\Users\\HP\\Desktop\\Git\\evapotranspiration\\raw_data\\new_files'\n",
    "read_path = path_to_dir\n",
    "st_to_keep = stations\n",
    "\n",
    "for file_name in files:\n",
    "    print(file_name)\n",
    "    replace_stations(file_name, st_to_keep, read_path, save_path)\n",
    "    "
   ]
  },
  {
   "cell_type": "code",
   "execution_count": 96,
   "id": "81d1cd25",
   "metadata": {},
   "outputs": [
    {
     "data": {
      "text/html": [
       "<div>\n",
       "<style scoped>\n",
       "    .dataframe tbody tr th:only-of-type {\n",
       "        vertical-align: middle;\n",
       "    }\n",
       "\n",
       "    .dataframe tbody tr th {\n",
       "        vertical-align: top;\n",
       "    }\n",
       "\n",
       "    .dataframe thead th {\n",
       "        text-align: right;\n",
       "    }\n",
       "</style>\n",
       "<table border=\"1\" class=\"dataframe\">\n",
       "  <thead>\n",
       "    <tr style=\"text-align: right;\">\n",
       "      <th></th>\n",
       "      <th>Istasyon_No</th>\n",
       "      <th>Istasyon_Adi</th>\n",
       "      <th>YIL</th>\n",
       "      <th>AY</th>\n",
       "      <th>TOPLAM_KURESEL_GUNES_RADYASYONU_kws</th>\n",
       "    </tr>\n",
       "  </thead>\n",
       "  <tbody>\n",
       "    <tr>\n",
       "      <th>0</th>\n",
       "      <td>17186</td>\n",
       "      <td>MAN?SA</td>\n",
       "      <td>2005</td>\n",
       "      <td>1</td>\n",
       "      <td>39.8</td>\n",
       "    </tr>\n",
       "    <tr>\n",
       "      <th>1</th>\n",
       "      <td>17186</td>\n",
       "      <td>MAN?SA</td>\n",
       "      <td>2005</td>\n",
       "      <td>2</td>\n",
       "      <td>59.8</td>\n",
       "    </tr>\n",
       "    <tr>\n",
       "      <th>2</th>\n",
       "      <td>17186</td>\n",
       "      <td>MAN?SA</td>\n",
       "      <td>2005</td>\n",
       "      <td>3</td>\n",
       "      <td>111.4</td>\n",
       "    </tr>\n",
       "    <tr>\n",
       "      <th>3</th>\n",
       "      <td>17186</td>\n",
       "      <td>MAN?SA</td>\n",
       "      <td>2005</td>\n",
       "      <td>4</td>\n",
       "      <td>153.4</td>\n",
       "    </tr>\n",
       "    <tr>\n",
       "      <th>4</th>\n",
       "      <td>17186</td>\n",
       "      <td>MAN?SA</td>\n",
       "      <td>2005</td>\n",
       "      <td>5</td>\n",
       "      <td>179.6</td>\n",
       "    </tr>\n",
       "    <tr>\n",
       "      <th>...</th>\n",
       "      <td>...</td>\n",
       "      <td>...</td>\n",
       "      <td>...</td>\n",
       "      <td>...</td>\n",
       "      <td>...</td>\n",
       "    </tr>\n",
       "    <tr>\n",
       "      <th>297</th>\n",
       "      <td>18032</td>\n",
       "      <td>KARABURUN</td>\n",
       "      <td>2013</td>\n",
       "      <td>7</td>\n",
       "      <td>0.0</td>\n",
       "    </tr>\n",
       "    <tr>\n",
       "      <th>298</th>\n",
       "      <td>18032</td>\n",
       "      <td>KARABURUN</td>\n",
       "      <td>2013</td>\n",
       "      <td>8</td>\n",
       "      <td>0.0</td>\n",
       "    </tr>\n",
       "    <tr>\n",
       "      <th>299</th>\n",
       "      <td>18032</td>\n",
       "      <td>KARABURUN</td>\n",
       "      <td>2013</td>\n",
       "      <td>9</td>\n",
       "      <td>0.0</td>\n",
       "    </tr>\n",
       "    <tr>\n",
       "      <th>300</th>\n",
       "      <td>18032</td>\n",
       "      <td>KARABURUN</td>\n",
       "      <td>2013</td>\n",
       "      <td>10</td>\n",
       "      <td>0.0</td>\n",
       "    </tr>\n",
       "    <tr>\n",
       "      <th>301</th>\n",
       "      <td>18032</td>\n",
       "      <td>KARABURUN</td>\n",
       "      <td>2013</td>\n",
       "      <td>12</td>\n",
       "      <td>0.0</td>\n",
       "    </tr>\n",
       "  </tbody>\n",
       "</table>\n",
       "<p>302 rows × 5 columns</p>\n",
       "</div>"
      ],
      "text/plain": [
       "     Istasyon_No Istasyon_Adi   YIL  AY  TOPLAM_KURESEL_GUNES_RADYASYONU_kws\n",
       "0          17186       MAN?SA  2005   1                                 39.8\n",
       "1          17186       MAN?SA  2005   2                                 59.8\n",
       "2          17186       MAN?SA  2005   3                                111.4\n",
       "3          17186       MAN?SA  2005   4                                153.4\n",
       "4          17186       MAN?SA  2005   5                                179.6\n",
       "..           ...          ...   ...  ..                                  ...\n",
       "297        18032    KARABURUN  2013   7                                  0.0\n",
       "298        18032    KARABURUN  2013   8                                  0.0\n",
       "299        18032    KARABURUN  2013   9                                  0.0\n",
       "300        18032    KARABURUN  2013  10                                  0.0\n",
       "301        18032    KARABURUN  2013  12                                  0.0\n",
       "\n",
       "[302 rows x 5 columns]"
      ]
     },
     "execution_count": 96,
     "metadata": {},
     "output_type": "execute_result"
    }
   ],
   "source": [
    "path = r\"C:\\Users\\HP\\Desktop\\Git\\evapotranspiration\\raw_data\\new_files\\20210708C0AD-Aylık Global Güneş Radyasyonu Toplamı (kwsaat÷m²) .txt\"\n",
    "pd.read_csv(path, sep='|')"
   ]
  },
  {
   "cell_type": "markdown",
   "id": "97e10129",
   "metadata": {},
   "source": [
    "Processed station definitions file"
   ]
  },
  {
   "cell_type": "code",
   "execution_count": 107,
   "id": "ac5dec4d",
   "metadata": {},
   "outputs": [],
   "source": [
    "cond = st_def['st_num'].isin(stations)\n",
    "stations = st_def[cond].reset_index(drop=True).drop(columns=['st_name', 'district', 'region'])"
   ]
  },
  {
   "cell_type": "code",
   "execution_count": 109,
   "id": "5ca5043d",
   "metadata": {},
   "outputs": [],
   "source": [
    "stations.to_csv(r\"C:\\Users\\HP\\Desktop\\Git\\evapotranspiration\\processed_data\\station_definitions.csv\", index=False)"
   ]
  },
  {
   "cell_type": "markdown",
   "id": "e942541a",
   "metadata": {},
   "source": [
    "### Vairable size heatmap"
   ]
  },
  {
   "cell_type": "code",
   "execution_count": 168,
   "id": "9128756f",
   "metadata": {},
   "outputs": [],
   "source": [
    "import seaborn as sns\n",
    "from matplotlib.cm import ScalarMappable\n",
    "from matplotlib.colors import Normalize"
   ]
  },
  {
   "cell_type": "markdown",
   "id": "6d691ead",
   "metadata": {},
   "source": [
    "## weee"
   ]
  },
  {
   "cell_type": "code",
   "execution_count": 291,
   "id": "f0d25836",
   "metadata": {},
   "outputs": [],
   "source": [
    "def corr_heatmap(data, figsize=(8, 8)):\n",
    "    '''\n",
    "    Create a correlation heatmap with square sizes varying according to the absolute correlation value.\n",
    "    Code based on: https://towardsdatascience.com/better-heatmaps-and-correlation-matrix-plots-in-python-41445d0f2bec\n",
    "    '''\n",
    "    # Size scale \n",
    "    size_scale = 500\n",
    "    \n",
    "    # Color map\n",
    "    palette = sns.diverging_palette(20, 220, as_cmap=True)\n",
    "    \n",
    "    \n",
    "    # Computing correlations\n",
    "    corr = data.corr()\n",
    "    corr = pd.melt(corr.reset_index(), id_vars='index') # Unpivot the dataframe, so we can get pair of arrays for x and y\n",
    "    corr.columns = ['x', 'y', 'value']\n",
    "    \n",
    "    x = corr['x']\n",
    "    y = corr['y']\n",
    "    size = corr['value'].abs()\n",
    "    color = corr['value']\n",
    "\n",
    "    fig, ax = plt.subplots(figsize=figsize)\n",
    "    \n",
    "    dim = data.shape[1]\n",
    "    # Mapping from column names to integer coordinates\n",
    "    x_labels = [v for v in sorted(x.unique())]\n",
    "    y_labels = [v for v in sorted(y.unique())]\n",
    "    x_to_num = {p[1]:p[0] for p in enumerate(x_labels)}\n",
    "    \n",
    "    # y-ticks are inverted to put the identical values on the main diagonal\n",
    "    y_to_num = {p[1]:-p[0] for p in enumerate(y_labels)}\n",
    "    num_to_y = {val:key for key, val in y_to_num.items()}\n",
    "    \n",
    "    ax.scatter(\n",
    "        x=x.map(x_to_num), # Use mapping for x\n",
    "        y=y.map(y_to_num), # Use mapping for y\n",
    "        s=size * size_scale, # Vector of square sizes, proportional to size parameter\n",
    "        marker='s', # Use square as scatterplot marker\n",
    "        c=color,\n",
    "        cmap=palette)\n",
    "    \n",
    "    # Show column labels on the axes\n",
    "    ax.set_xticks([x_to_num[v] for v in x_labels])\n",
    "    ax.set_xticklabels(x_labels, rotation=45, horizontalalignment='right')\n",
    "\n",
    "    yticks = np.sort([y_to_num[v] for v in y_labels])\n",
    "    ax.set_yticks(yticks)\n",
    "    ax.set_yticklabels([num_to_y[i] for i in yticks])\n",
    "    \n",
    "    # Setting minor ticks to create the grid\n",
    "    ax.grid(False, 'major')\n",
    "    ax.grid(True, 'minor', color='w', lw=2)\n",
    "    ax.set_xticks([t + 0.5 for t in ax.get_xticks()], minor=True)\n",
    "    ax.set_yticks([t - 0.5 for t in ax.get_yticks()], minor=True)\n",
    "    \n",
    "    ax.set_xlim(-0.5, ax.get_xticks(minor=True)[-1])\n",
    "    ax.set_ylim(ax.get_yticks(minor=True)[0], 0.5)\n",
    "    \n",
    "    ax.set_facecolor('#F4F4F4')\n",
    "    \n",
    "    for side in ['left', 'right', 'top', 'bottom']:\n",
    "        ax.spines[side].set_visible(False)\n",
    "        \n",
    "    ax.tick_params(left=False, which='both')\n",
    "    ax.tick_params(bottom=False, which='both')\n",
    "    \n",
    "    cmappable = ScalarMappable(norm=Normalize(-1,1), cmap=palette)\n",
    "    cb = plt.colorbar(cmappable, ticks=[-1, 0, 1])\n",
    "    \n",
    "    # Hiding colorbar outline\n",
    "    cb.outline.set_visible(False)\n",
    "    \n",
    "    return ax"
   ]
  },
  {
   "cell_type": "code",
   "execution_count": 292,
   "id": "6a41b1ba",
   "metadata": {
    "scrolled": false
   },
   "outputs": [
    {
     "data": {
      "image/png": "[encoded data removed]",
      "text/plain": [
       "<Figure size 720x576 with 2 Axes>"
      ]
     },
     "metadata": {
      "needs_background": "light"
     },
     "output_type": "display_data"
    }
   ],
   "source": [
    "data = pd.read_csv('https://raw.githubusercontent.com/drazenz/heatmap/master/autos.clean.csv')\n",
    "columns = ['bore', 'stroke', 'compression-ratio', 'horsepower', 'city-mpg', 'price'] \n",
    "\n",
    "ax = corr_heatmap(data[columns], figsize=(10, 8))\n",
    "plt.show()"
   ]
  },
  {
   "cell_type": "code",
   "execution_count": 288,
   "id": "b30f6f4f",
   "metadata": {},
   "outputs": [],
   "source": [
    "path_to_dir = r'C:\\Users\\HP\\Desktop\\Git\\evapotranspiration\\processed_data'\n",
    "file_name = 'ET0_data.csv'\n",
    "path = os.path.join(path_to_dir, file_name)\n",
    "\n",
    "df = pd.read_csv(path)"
   ]
  },
  {
   "cell_type": "code",
   "execution_count": 289,
   "id": "b61ac6aa",
   "metadata": {},
   "outputs": [],
   "source": [
    "cols = ['max_temp', 'avg_temp', 'inc_rad', 'avg_hum', 'avg_ws', 'ET0']\n",
    "\n",
    "data = df[cols]\n",
    "ax = corr_heatmap(data, figsize=(9, 8))"
   ]
  },
  {
   "cell_type": "code",
   "execution_count": 290,
   "id": "e11a65f4",
   "metadata": {},
   "outputs": [
    {
     "data": {
      "image/png": "[encoded data removed]",
      "text/plain": [
       "<Figure size 648x576 with 2 Axes>"
      ]
     },
     "metadata": {
      "needs_background": "light"
     },
     "output_type": "display_data"
    }
   ],
   "source": [
    "ax = corr_heatmap(data, figsize=(9, 8))"
   ]
  },
  {
   "cell_type": "code",
   "execution_count": 204,
   "id": "02f8a280",
   "metadata": {},
   "outputs": [
    {
     "data": {
      "image/png": "[encoded data removed]",
      "text/plain": [
       "<Figure size 648x576 with 2 Axes>"
      ]
     },
     "metadata": {
      "needs_background": "light"
     },
     "output_type": "display_data"
    }
   ],
   "source": [
    "corr_heatmap(data, figsize=(9, 8))"
   ]
  },
  {
   "cell_type": "code",
   "execution_count": 91,
   "id": "e7c5d160",
   "metadata": {},
   "outputs": [],
   "source": [
    "# RdBu"
   ]
  },
  {
   "cell_type": "code",
   "execution_count": null,
   "id": "88fa8621",
   "metadata": {},
   "outputs": [],
   "source": []
  }
 ],
 "metadata": {
  "kernelspec": {
   "display_name": "Python 3 (ipykernel)",
   "language": "python",
   "name": "python3"
  },
  "language_info": {
   "codemirror_mode": {
    "name": "ipython",
    "version": 3
   },
   "file_extension": ".py",
   "mimetype": "text/x-python",
   "name": "python",
   "nbconvert_exporter": "python",
   "pygments_lexer": "ipython3",
   "version": "3.9.7"
  }
 },
 "nbformat": 4,
 "nbformat_minor": 5
}
